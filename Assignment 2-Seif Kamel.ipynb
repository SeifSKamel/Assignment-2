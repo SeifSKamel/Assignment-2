{
 "cells": [
  {
   "cell_type": "code",
   "execution_count": 32,
   "id": "c7049a37",
   "metadata": {},
   "outputs": [],
   "source": [
    "import numpy as np"
   ]
  },
  {
   "cell_type": "code",
   "execution_count": 33,
   "id": "4c72f23f",
   "metadata": {},
   "outputs": [],
   "source": [
    "import pandas as pd"
   ]
  },
  {
   "cell_type": "code",
   "execution_count": 34,
   "id": "97f2c7c5",
   "metadata": {},
   "outputs": [],
   "source": [
    "import matplotlib.pyplot as plt"
   ]
  },
  {
   "cell_type": "code",
   "execution_count": 35,
   "id": "4616bcb9",
   "metadata": {},
   "outputs": [],
   "source": [
    "import statsmodels.api as sm"
   ]
  },
  {
   "cell_type": "code",
   "execution_count": 36,
   "id": "c62f5bae",
   "metadata": {},
   "outputs": [],
   "source": [
    "from statsmodels.stats.proportion import proportion_confint"
   ]
  },
  {
   "cell_type": "markdown",
   "id": "d5287695",
   "metadata": {},
   "source": [
    "This is Question 1"
   ]
  },
  {
   "cell_type": "code",
   "execution_count": 6,
   "id": "544d08fb",
   "metadata": {},
   "outputs": [],
   "source": [
    "df=pd.read_csv(r\"D:\\Seif Data\\AUC\\Fundamentals of Data Science\\Python\\results.csv\")"
   ]
  },
  {
   "cell_type": "code",
   "execution_count": 7,
   "id": "7f176b07",
   "metadata": {},
   "outputs": [
    {
     "data": {
      "text/html": [
       "<div>\n",
       "<style scoped>\n",
       "    .dataframe tbody tr th:only-of-type {\n",
       "        vertical-align: middle;\n",
       "    }\n",
       "\n",
       "    .dataframe tbody tr th {\n",
       "        vertical-align: top;\n",
       "    }\n",
       "\n",
       "    .dataframe thead th {\n",
       "        text-align: right;\n",
       "    }\n",
       "</style>\n",
       "<table border=\"1\" class=\"dataframe\">\n",
       "  <thead>\n",
       "    <tr style=\"text-align: right;\">\n",
       "      <th></th>\n",
       "      <th>date</th>\n",
       "      <th>home_team</th>\n",
       "      <th>away_team</th>\n",
       "      <th>home_score</th>\n",
       "      <th>away_score</th>\n",
       "      <th>tournament</th>\n",
       "      <th>city</th>\n",
       "      <th>country</th>\n",
       "      <th>neutral</th>\n",
       "    </tr>\n",
       "  </thead>\n",
       "  <tbody>\n",
       "    <tr>\n",
       "      <th>0</th>\n",
       "      <td>1872-11-30</td>\n",
       "      <td>Scotland</td>\n",
       "      <td>England</td>\n",
       "      <td>0</td>\n",
       "      <td>0</td>\n",
       "      <td>Friendly</td>\n",
       "      <td>Glasgow</td>\n",
       "      <td>Scotland</td>\n",
       "      <td>False</td>\n",
       "    </tr>\n",
       "    <tr>\n",
       "      <th>1</th>\n",
       "      <td>1873-03-08</td>\n",
       "      <td>England</td>\n",
       "      <td>Scotland</td>\n",
       "      <td>4</td>\n",
       "      <td>2</td>\n",
       "      <td>Friendly</td>\n",
       "      <td>London</td>\n",
       "      <td>England</td>\n",
       "      <td>False</td>\n",
       "    </tr>\n",
       "    <tr>\n",
       "      <th>2</th>\n",
       "      <td>1874-03-07</td>\n",
       "      <td>Scotland</td>\n",
       "      <td>England</td>\n",
       "      <td>2</td>\n",
       "      <td>1</td>\n",
       "      <td>Friendly</td>\n",
       "      <td>Glasgow</td>\n",
       "      <td>Scotland</td>\n",
       "      <td>False</td>\n",
       "    </tr>\n",
       "    <tr>\n",
       "      <th>3</th>\n",
       "      <td>1875-03-06</td>\n",
       "      <td>England</td>\n",
       "      <td>Scotland</td>\n",
       "      <td>2</td>\n",
       "      <td>2</td>\n",
       "      <td>Friendly</td>\n",
       "      <td>London</td>\n",
       "      <td>England</td>\n",
       "      <td>False</td>\n",
       "    </tr>\n",
       "    <tr>\n",
       "      <th>4</th>\n",
       "      <td>1876-03-04</td>\n",
       "      <td>Scotland</td>\n",
       "      <td>England</td>\n",
       "      <td>3</td>\n",
       "      <td>0</td>\n",
       "      <td>Friendly</td>\n",
       "      <td>Glasgow</td>\n",
       "      <td>Scotland</td>\n",
       "      <td>False</td>\n",
       "    </tr>\n",
       "    <tr>\n",
       "      <th>...</th>\n",
       "      <td>...</td>\n",
       "      <td>...</td>\n",
       "      <td>...</td>\n",
       "      <td>...</td>\n",
       "      <td>...</td>\n",
       "      <td>...</td>\n",
       "      <td>...</td>\n",
       "      <td>...</td>\n",
       "      <td>...</td>\n",
       "    </tr>\n",
       "    <tr>\n",
       "      <th>43183</th>\n",
       "      <td>2/1/2022</td>\n",
       "      <td>Suriname</td>\n",
       "      <td>Guyana</td>\n",
       "      <td>2</td>\n",
       "      <td>1</td>\n",
       "      <td>Friendly</td>\n",
       "      <td>Paramaribo</td>\n",
       "      <td>Suriname</td>\n",
       "      <td>False</td>\n",
       "    </tr>\n",
       "    <tr>\n",
       "      <th>43184</th>\n",
       "      <td>2/2/2022</td>\n",
       "      <td>Burkina Faso</td>\n",
       "      <td>Senegal</td>\n",
       "      <td>1</td>\n",
       "      <td>3</td>\n",
       "      <td>African Cup of Nations</td>\n",
       "      <td>Yaoundé</td>\n",
       "      <td>Cameroon</td>\n",
       "      <td>True</td>\n",
       "    </tr>\n",
       "    <tr>\n",
       "      <th>43185</th>\n",
       "      <td>2/3/2022</td>\n",
       "      <td>Cameroon</td>\n",
       "      <td>Egypt</td>\n",
       "      <td>0</td>\n",
       "      <td>0</td>\n",
       "      <td>African Cup of Nations</td>\n",
       "      <td>Yaoundé</td>\n",
       "      <td>Cameroon</td>\n",
       "      <td>False</td>\n",
       "    </tr>\n",
       "    <tr>\n",
       "      <th>43186</th>\n",
       "      <td>2/5/2022</td>\n",
       "      <td>Cameroon</td>\n",
       "      <td>Burkina Faso</td>\n",
       "      <td>3</td>\n",
       "      <td>3</td>\n",
       "      <td>African Cup of Nations</td>\n",
       "      <td>Yaoundé</td>\n",
       "      <td>Cameroon</td>\n",
       "      <td>False</td>\n",
       "    </tr>\n",
       "    <tr>\n",
       "      <th>43187</th>\n",
       "      <td>2/6/2022</td>\n",
       "      <td>Senegal</td>\n",
       "      <td>Egypt</td>\n",
       "      <td>0</td>\n",
       "      <td>0</td>\n",
       "      <td>African Cup of Nations</td>\n",
       "      <td>Yaoundé</td>\n",
       "      <td>Cameroon</td>\n",
       "      <td>True</td>\n",
       "    </tr>\n",
       "  </tbody>\n",
       "</table>\n",
       "<p>43188 rows × 9 columns</p>\n",
       "</div>"
      ],
      "text/plain": [
       "             date     home_team     away_team  home_score  away_score  \\\n",
       "0      1872-11-30      Scotland       England           0           0   \n",
       "1      1873-03-08       England      Scotland           4           2   \n",
       "2      1874-03-07      Scotland       England           2           1   \n",
       "3      1875-03-06       England      Scotland           2           2   \n",
       "4      1876-03-04      Scotland       England           3           0   \n",
       "...           ...           ...           ...         ...         ...   \n",
       "43183    2/1/2022      Suriname        Guyana           2           1   \n",
       "43184    2/2/2022  Burkina Faso       Senegal           1           3   \n",
       "43185    2/3/2022      Cameroon         Egypt           0           0   \n",
       "43186    2/5/2022      Cameroon  Burkina Faso           3           3   \n",
       "43187    2/6/2022       Senegal         Egypt           0           0   \n",
       "\n",
       "                   tournament        city   country  neutral  \n",
       "0                    Friendly     Glasgow  Scotland    False  \n",
       "1                    Friendly      London   England    False  \n",
       "2                    Friendly     Glasgow  Scotland    False  \n",
       "3                    Friendly      London   England    False  \n",
       "4                    Friendly     Glasgow  Scotland    False  \n",
       "...                       ...         ...       ...      ...  \n",
       "43183                Friendly  Paramaribo  Suriname    False  \n",
       "43184  African Cup of Nations     Yaoundé  Cameroon     True  \n",
       "43185  African Cup of Nations     Yaoundé  Cameroon    False  \n",
       "43186  African Cup of Nations     Yaoundé  Cameroon    False  \n",
       "43187  African Cup of Nations     Yaoundé  Cameroon     True  \n",
       "\n",
       "[43188 rows x 9 columns]"
      ]
     },
     "execution_count": 7,
     "metadata": {},
     "output_type": "execute_result"
    }
   ],
   "source": [
    "df"
   ]
  },
  {
   "cell_type": "code",
   "execution_count": 8,
   "id": "500230aa",
   "metadata": {},
   "outputs": [],
   "source": [
    "x=df['home_score']-df['away_score']"
   ]
  },
  {
   "cell_type": "code",
   "execution_count": 9,
   "id": "b210f68d",
   "metadata": {},
   "outputs": [],
   "source": [
    "conditions = [(x<0),(x>0),(x==0)]"
   ]
  },
  {
   "cell_type": "code",
   "execution_count": 10,
   "id": "afde7c99",
   "metadata": {},
   "outputs": [],
   "source": [
    "values= ['win','lose','draw']"
   ]
  },
  {
   "cell_type": "code",
   "execution_count": 11,
   "id": "b905b5db",
   "metadata": {},
   "outputs": [],
   "source": [
    "df['result'] = np.select(conditions, values)"
   ]
  },
  {
   "cell_type": "code",
   "execution_count": 12,
   "id": "09be6cc1",
   "metadata": {},
   "outputs": [
    {
     "data": {
      "text/html": [
       "<div>\n",
       "<style scoped>\n",
       "    .dataframe tbody tr th:only-of-type {\n",
       "        vertical-align: middle;\n",
       "    }\n",
       "\n",
       "    .dataframe tbody tr th {\n",
       "        vertical-align: top;\n",
       "    }\n",
       "\n",
       "    .dataframe thead th {\n",
       "        text-align: right;\n",
       "    }\n",
       "</style>\n",
       "<table border=\"1\" class=\"dataframe\">\n",
       "  <thead>\n",
       "    <tr style=\"text-align: right;\">\n",
       "      <th></th>\n",
       "      <th>date</th>\n",
       "      <th>home_team</th>\n",
       "      <th>away_team</th>\n",
       "      <th>home_score</th>\n",
       "      <th>away_score</th>\n",
       "      <th>tournament</th>\n",
       "      <th>city</th>\n",
       "      <th>country</th>\n",
       "      <th>neutral</th>\n",
       "      <th>result</th>\n",
       "    </tr>\n",
       "  </thead>\n",
       "  <tbody>\n",
       "    <tr>\n",
       "      <th>0</th>\n",
       "      <td>1872-11-30</td>\n",
       "      <td>Scotland</td>\n",
       "      <td>England</td>\n",
       "      <td>0</td>\n",
       "      <td>0</td>\n",
       "      <td>Friendly</td>\n",
       "      <td>Glasgow</td>\n",
       "      <td>Scotland</td>\n",
       "      <td>False</td>\n",
       "      <td>draw</td>\n",
       "    </tr>\n",
       "    <tr>\n",
       "      <th>1</th>\n",
       "      <td>1873-03-08</td>\n",
       "      <td>England</td>\n",
       "      <td>Scotland</td>\n",
       "      <td>4</td>\n",
       "      <td>2</td>\n",
       "      <td>Friendly</td>\n",
       "      <td>London</td>\n",
       "      <td>England</td>\n",
       "      <td>False</td>\n",
       "      <td>lose</td>\n",
       "    </tr>\n",
       "  </tbody>\n",
       "</table>\n",
       "</div>"
      ],
      "text/plain": [
       "         date home_team away_team  home_score  away_score tournament     city  \\\n",
       "0  1872-11-30  Scotland   England           0           0   Friendly  Glasgow   \n",
       "1  1873-03-08   England  Scotland           4           2   Friendly   London   \n",
       "\n",
       "    country  neutral result  \n",
       "0  Scotland    False   draw  \n",
       "1   England    False   lose  "
      ]
     },
     "execution_count": 12,
     "metadata": {},
     "output_type": "execute_result"
    }
   ],
   "source": [
    "df.head(2)"
   ]
  },
  {
   "cell_type": "code",
   "execution_count": 13,
   "id": "b39956b5",
   "metadata": {},
   "outputs": [
    {
     "data": {
      "text/plain": [
       "lose    21009\n",
       "win     12224\n",
       "draw     9955\n",
       "Name: result, dtype: int64"
      ]
     },
     "execution_count": 13,
     "metadata": {},
     "output_type": "execute_result"
    }
   ],
   "source": [
    "df['result'].value_counts()"
   ]
  },
  {
   "cell_type": "code",
   "execution_count": 14,
   "id": "9d373b91",
   "metadata": {},
   "outputs": [
    {
     "data": {
      "text/plain": [
       "lose    0.486455\n",
       "win     0.283042\n",
       "draw    0.230504\n",
       "Name: result, dtype: float64"
      ]
     },
     "execution_count": 14,
     "metadata": {},
     "output_type": "execute_result"
    }
   ],
   "source": [
    "df['result'].value_counts(normalize=True)"
   ]
  },
  {
   "cell_type": "markdown",
   "id": "57642707",
   "metadata": {},
   "source": [
    "These are the total wins, loses, and draws. They are also given in percentages."
   ]
  },
  {
   "cell_type": "code",
   "execution_count": 15,
   "id": "247a2226",
   "metadata": {},
   "outputs": [],
   "source": [
    "x=df['result'].value_counts()"
   ]
  },
  {
   "cell_type": "code",
   "execution_count": 16,
   "id": "589dbde0",
   "metadata": {},
   "outputs": [
    {
     "data": {
      "text/plain": [
       "lose    21009\n",
       "win     12224\n",
       "draw     9955\n",
       "Name: result, dtype: int64"
      ]
     },
     "execution_count": 16,
     "metadata": {},
     "output_type": "execute_result"
    }
   ],
   "source": [
    "x"
   ]
  },
  {
   "cell_type": "code",
   "execution_count": 17,
   "id": "82c38159",
   "metadata": {},
   "outputs": [],
   "source": [
    "x=np.array(x)"
   ]
  },
  {
   "cell_type": "code",
   "execution_count": 18,
   "id": "1973a03d",
   "metadata": {},
   "outputs": [
    {
     "data": {
      "text/plain": [
       "array([21009, 12224,  9955], dtype=int64)"
      ]
     },
     "execution_count": 18,
     "metadata": {},
     "output_type": "execute_result"
    }
   ],
   "source": [
    "x"
   ]
  },
  {
   "cell_type": "code",
   "execution_count": 19,
   "id": "e7f3eaf2",
   "metadata": {},
   "outputs": [],
   "source": [
    "N=x.sum()"
   ]
  },
  {
   "cell_type": "code",
   "execution_count": 20,
   "id": "2887461f",
   "metadata": {},
   "outputs": [
    {
     "data": {
      "text/plain": [
       "43188"
      ]
     },
     "execution_count": 20,
     "metadata": {},
     "output_type": "execute_result"
    }
   ],
   "source": [
    "N"
   ]
  },
  {
   "cell_type": "code",
   "execution_count": 21,
   "id": "a3ff83e6",
   "metadata": {},
   "outputs": [],
   "source": [
    "CI_win=proportion_confint(count=x[1],nobs=N,alpha=(1-.95))"
   ]
  },
  {
   "cell_type": "code",
   "execution_count": 22,
   "id": "66d97df4",
   "metadata": {},
   "outputs": [],
   "source": [
    "CI_lose=proportion_confint(count=x[0],nobs=N,alpha=(1-.95))"
   ]
  },
  {
   "cell_type": "code",
   "execution_count": 23,
   "id": "b0516475",
   "metadata": {},
   "outputs": [],
   "source": [
    "CI_draw=proportion_confint(count=x[2],nobs=N,alpha=(1-.95))"
   ]
  },
  {
   "cell_type": "code",
   "execution_count": 24,
   "id": "58feffa0",
   "metadata": {},
   "outputs": [
    {
     "data": {
      "text/plain": [
       "(0.27879305599044235, 0.28729011526083115)"
      ]
     },
     "execution_count": 24,
     "metadata": {},
     "output_type": "execute_result"
    }
   ],
   "source": [
    "CI_win"
   ]
  },
  {
   "cell_type": "code",
   "execution_count": 25,
   "id": "01d64c06",
   "metadata": {},
   "outputs": [
    {
     "data": {
      "text/plain": [
       "(0.481740705905987, 0.49116843552218753)"
      ]
     },
     "execution_count": 25,
     "metadata": {},
     "output_type": "execute_result"
    }
   ],
   "source": [
    "CI_lose"
   ]
  },
  {
   "cell_type": "code",
   "execution_count": 26,
   "id": "9b8e0ffb",
   "metadata": {},
   "outputs": [
    {
     "data": {
      "text/plain": [
       "(0.2265318471530234, 0.23447584016752862)"
      ]
     },
     "execution_count": 26,
     "metadata": {},
     "output_type": "execute_result"
    }
   ],
   "source": [
    "CI_draw"
   ]
  },
  {
   "cell_type": "markdown",
   "id": "77a82901",
   "metadata": {},
   "source": [
    "These are the confidence intervals for winning, losing, and drawing of all countries."
   ]
  },
  {
   "cell_type": "code",
   "execution_count": 48,
   "id": "3d08a2a2",
   "metadata": {},
   "outputs": [],
   "source": [
    "x=df['country'].unique()"
   ]
  },
  {
   "cell_type": "code",
   "execution_count": 49,
   "id": "aeac7151",
   "metadata": {},
   "outputs": [
    {
     "data": {
      "text/plain": [
       "array(['Scotland', 'England', 'Wales', 'Ireland', 'United States',\n",
       "       'Uruguay', 'Austria', 'Hungary', 'Argentina', 'Belgium', 'France',\n",
       "       'Netherlands', 'Bohemia', 'Switzerland', 'Sweden', 'Germany',\n",
       "       'Italy', 'Chile', 'Norway', 'Finland', 'Luxembourg', 'Russia',\n",
       "       'Denmark', 'Spain', 'Japan', 'Brazil', 'Paraguay', 'China PR',\n",
       "       'Canada', 'Estonia', 'Guatemala', 'Czechoslovakia', 'Poland',\n",
       "       'Yugoslavia', 'New Zealand', 'Romania', 'Latvia', 'Portugal',\n",
       "       'Northern Ireland', 'Australia', 'Lithuania', 'Turkey', 'Mexico',\n",
       "       'Aruba', 'Soviet Union', 'Haiti', 'Philippines', 'Bulgaria',\n",
       "       'Jamaica', 'Kenya', 'Czech Republic', 'Peru', 'Honduras',\n",
       "       'British Guyana', 'Uganda', 'El Salvador', 'Barbados',\n",
       "       'Irish Free State', 'Trinidad and Tobago', 'Greece', 'Curaçao',\n",
       "       'Egypt', 'Dominica', 'Guadeloupe', 'Palestine',\n",
       "       'Netherlands Guyana', 'French Guiana', 'Cuba', 'Colombia',\n",
       "       'Saint Kitts and Nevis', 'Éire', 'Panama', 'Bohemia and Moravia',\n",
       "       'Slovakia', 'Manchuria', 'Croatia', 'Costa Rica', 'Afghanistan',\n",
       "       'Martinique', 'Southern Rhodesia', 'Iceland', 'Albania',\n",
       "       'Madagascar', 'Northern Rhodesia', 'Tanganyika', 'Iran', 'Ecuador',\n",
       "       'French Somaliland', 'Belgian Congo', 'Mauritius', 'Hong Kong',\n",
       "       'Vietnam', 'Macau', 'Republic of Ireland', 'Ethiopia', 'Suriname',\n",
       "       'Puerto Rico', 'Réunion', 'Israel', 'Sierra Leone', 'Zanzibar',\n",
       "       'Bolivia', 'Gold Coast', 'South Africa', 'Netherlands Antilles',\n",
       "       'New Caledonia', 'Fiji', 'Nigeria', 'Venezuela', 'Ceylon',\n",
       "       'French Polynesia', 'Gambia', 'Singapore', 'Portuguese Guinea',\n",
       "       'German DR', 'New Hebrides', 'Burma', 'Saarland', 'Cambodia',\n",
       "       'India', 'Lebanon', 'Pakistan', 'Malaya', 'South Korea',\n",
       "       'Vietnam Republic', 'Togo', 'Indonesia', 'Sudan', 'Malta', 'Syria',\n",
       "       'Tunisia', 'Nyasaland', 'Ghana', 'Morocco', 'United Arab Republic',\n",
       "       'North Korea', 'Dahomey', 'Guinea-Bissau', 'Mali Federation',\n",
       "       'Mali', 'Vietnam DR', 'Cyprus', 'Iraq', 'Saint Lucia', 'Senegal',\n",
       "       'Libya', 'Gabon', 'Thailand', 'Congo', 'Tanzania', 'Grenada',\n",
       "       'Guinea', 'Central African Republic', 'Cameroon', 'Algeria',\n",
       "       'Kuwait', 'Ivory Coast', 'Lautoka', 'Liberia', 'Malaysia',\n",
       "       'Jordan', 'Zambia', 'Saint Vincent and the Grenadines', 'Bermuda',\n",
       "       'Niger', 'Malawi', 'DR Congo', 'Upper Volta', 'Taiwan', 'Guyana',\n",
       "       'Mauritania', 'Rhodesia', 'Saudi Arabia', 'Eswatini', 'Mozambique',\n",
       "       'Papua New Guinea', 'Bahrain', 'Lesotho', 'Somalia', 'Zaïre',\n",
       "       'Sri Lanka', 'Antigua and Barbuda', 'Faroe Islands', 'Qatar',\n",
       "       'Yemen DPR', 'Burundi', 'Guam', 'Chad', 'Angola',\n",
       "       'Dominican Republic', 'Seychelles', 'São Tomé and Príncipe',\n",
       "       'Botswana', 'Benin', 'Rwanda', 'Bangladesh',\n",
       "       'United Arab Emirates', 'Zimbabwe', 'Oman', 'Equatorial Guinea',\n",
       "       'Cape Verde', 'Liechtenstein', 'Nepal', 'Greenland', 'Vanuatu',\n",
       "       'Western Samoa', 'Belize', 'Brunei', 'Djibouti', 'Burkina Faso',\n",
       "       'Yemen AR', 'Anguilla', 'Nicaragua', 'Cayman Islands', 'Monaco',\n",
       "       'Solomon Islands', 'Sint Maarten', 'Namibia', 'Saint Martin',\n",
       "       'San Marino', 'Slovenia', 'Moldova', 'Ukraine', 'Kazakhstan',\n",
       "       'Tajikistan', 'Uzbekistan', 'Turkmenistan', 'Georgia',\n",
       "       'Kyrgyzstan', 'Armenia', 'Belarus', 'Guernsey', 'Azerbaijan',\n",
       "       'North Macedonia', 'Jersey', 'Montserrat', 'Gibraltar', 'Myanmar',\n",
       "       'Bosnia and Herzegovina', 'Tonga', 'Andorra', 'Yemen',\n",
       "       'United States Virgin Islands', 'Palau', 'Cook Islands',\n",
       "       'British Virgin Islands', 'Eritrea', 'Bahamas', 'Micronesia',\n",
       "       'Maldives', 'Laos', 'Isle of Man', 'Samoa', 'Bhutan',\n",
       "       'Serbia and Montenegro', 'Mayotte', 'Mongolia', 'Northern Cyprus',\n",
       "       'Serbia', 'Montenegro', 'Northern Mariana Islands', 'Comoros',\n",
       "       'Turks and Caicos Islands', 'South Sudan', 'Kosovo', 'East Timor',\n",
       "       'Tahiti'], dtype=object)"
      ]
     },
     "execution_count": 49,
     "metadata": {},
     "output_type": "execute_result"
    }
   ],
   "source": [
    "x"
   ]
  },
  {
   "cell_type": "markdown",
   "id": "558bcbc3",
   "metadata": {},
   "source": [
    "These are the countries in the dataset. The country that will be analyzed is Spain."
   ]
  },
  {
   "cell_type": "code",
   "execution_count": 58,
   "id": "48a99043",
   "metadata": {},
   "outputs": [],
   "source": [
    "dfsp=df[df['country']=='Spain']"
   ]
  },
  {
   "cell_type": "code",
   "execution_count": 59,
   "id": "1ed5d28b",
   "metadata": {},
   "outputs": [
    {
     "data": {
      "text/html": [
       "<div>\n",
       "<style scoped>\n",
       "    .dataframe tbody tr th:only-of-type {\n",
       "        vertical-align: middle;\n",
       "    }\n",
       "\n",
       "    .dataframe tbody tr th {\n",
       "        vertical-align: top;\n",
       "    }\n",
       "\n",
       "    .dataframe thead th {\n",
       "        text-align: right;\n",
       "    }\n",
       "</style>\n",
       "<table border=\"1\" class=\"dataframe\">\n",
       "  <thead>\n",
       "    <tr style=\"text-align: right;\">\n",
       "      <th></th>\n",
       "      <th>date</th>\n",
       "      <th>home_team</th>\n",
       "      <th>away_team</th>\n",
       "      <th>home_score</th>\n",
       "      <th>away_score</th>\n",
       "      <th>tournament</th>\n",
       "      <th>city</th>\n",
       "      <th>country</th>\n",
       "      <th>neutral</th>\n",
       "      <th>result</th>\n",
       "    </tr>\n",
       "  </thead>\n",
       "  <tbody>\n",
       "    <tr>\n",
       "      <th>347</th>\n",
       "      <td>12/1/1912</td>\n",
       "      <td>Catalonia</td>\n",
       "      <td>France</td>\n",
       "      <td>1</td>\n",
       "      <td>0</td>\n",
       "      <td>Friendly</td>\n",
       "      <td>Barcelona</td>\n",
       "      <td>Spain</td>\n",
       "      <td>False</td>\n",
       "      <td>lose</td>\n",
       "    </tr>\n",
       "    <tr>\n",
       "      <th>415</th>\n",
       "      <td>1/3/1915</td>\n",
       "      <td>Basque Country</td>\n",
       "      <td>Catalonia</td>\n",
       "      <td>6</td>\n",
       "      <td>1</td>\n",
       "      <td>Friendly</td>\n",
       "      <td>Bilbao</td>\n",
       "      <td>Spain</td>\n",
       "      <td>False</td>\n",
       "      <td>lose</td>\n",
       "    </tr>\n",
       "    <tr>\n",
       "      <th>417</th>\n",
       "      <td>2/7/1915</td>\n",
       "      <td>Catalonia</td>\n",
       "      <td>Basque Country</td>\n",
       "      <td>2</td>\n",
       "      <td>2</td>\n",
       "      <td>Friendly</td>\n",
       "      <td>Barcelona</td>\n",
       "      <td>Spain</td>\n",
       "      <td>False</td>\n",
       "      <td>draw</td>\n",
       "    </tr>\n",
       "    <tr>\n",
       "      <th>419</th>\n",
       "      <td>5/13/1915</td>\n",
       "      <td>Basque Country</td>\n",
       "      <td>Catalonia</td>\n",
       "      <td>1</td>\n",
       "      <td>0</td>\n",
       "      <td>Friendly</td>\n",
       "      <td>Madrid</td>\n",
       "      <td>Spain</td>\n",
       "      <td>False</td>\n",
       "      <td>lose</td>\n",
       "    </tr>\n",
       "    <tr>\n",
       "      <th>432</th>\n",
       "      <td>5/21/1916</td>\n",
       "      <td>Catalonia</td>\n",
       "      <td>Basque Country</td>\n",
       "      <td>1</td>\n",
       "      <td>3</td>\n",
       "      <td>Friendly</td>\n",
       "      <td>Barcelona</td>\n",
       "      <td>Spain</td>\n",
       "      <td>False</td>\n",
       "      <td>win</td>\n",
       "    </tr>\n",
       "  </tbody>\n",
       "</table>\n",
       "</div>"
      ],
      "text/plain": [
       "          date       home_team       away_team  home_score  away_score  \\\n",
       "347  12/1/1912       Catalonia          France           1           0   \n",
       "415   1/3/1915  Basque Country       Catalonia           6           1   \n",
       "417   2/7/1915       Catalonia  Basque Country           2           2   \n",
       "419  5/13/1915  Basque Country       Catalonia           1           0   \n",
       "432  5/21/1916       Catalonia  Basque Country           1           3   \n",
       "\n",
       "    tournament       city country  neutral result  \n",
       "347   Friendly  Barcelona   Spain    False   lose  \n",
       "415   Friendly     Bilbao   Spain    False   lose  \n",
       "417   Friendly  Barcelona   Spain    False   draw  \n",
       "419   Friendly     Madrid   Spain    False   lose  \n",
       "432   Friendly  Barcelona   Spain    False    win  "
      ]
     },
     "execution_count": 59,
     "metadata": {},
     "output_type": "execute_result"
    }
   ],
   "source": [
    "dfsp.head()"
   ]
  },
  {
   "cell_type": "code",
   "execution_count": 61,
   "id": "b486bf92",
   "metadata": {},
   "outputs": [],
   "source": [
    "conditions = [(dfsp['tournament']=='Friendly'),(dfsp['tournament']!='Friendly')]"
   ]
  },
  {
   "cell_type": "code",
   "execution_count": 63,
   "id": "6f06fa2f",
   "metadata": {},
   "outputs": [
    {
     "data": {
      "text/plain": [
       "Friendly                                17276\n",
       "FIFA World Cup qualification             7885\n",
       "UEFA Euro qualification                  2594\n",
       "African Cup of Nations qualification     1719\n",
       "FIFA World Cup                            900\n",
       "                                        ...  \n",
       "AFF Championship qualification              2\n",
       "Atlantic Heritage Cup                       2\n",
       "Cup of Ancient Civilizations                2\n",
       "FIFA 75th Anniversary Cup                   1\n",
       "TIFOCO Tournament                           1\n",
       "Name: tournament, Length: 126, dtype: int64"
      ]
     },
     "execution_count": 63,
     "metadata": {},
     "output_type": "execute_result"
    }
   ],
   "source": [
    "df['tournament'].value_counts()"
   ]
  },
  {
   "cell_type": "code",
   "execution_count": 66,
   "id": "1e9cd52d",
   "metadata": {},
   "outputs": [],
   "source": [
    "values=['FIFA World Cup qualification', 'UEFA Euro qualification']"
   ]
  },
  {
   "cell_type": "code",
   "execution_count": 67,
   "id": "f1c1b19a",
   "metadata": {},
   "outputs": [
    {
     "name": "stderr",
     "output_type": "stream",
     "text": [
      "C:\\Users\\teeto\\AppData\\Local\\Temp\\ipykernel_31572\\3410179208.py:1: SettingWithCopyWarning: \n",
      "A value is trying to be set on a copy of a slice from a DataFrame.\n",
      "Try using .loc[row_indexer,col_indexer] = value instead\n",
      "\n",
      "See the caveats in the documentation: https://pandas.pydata.org/pandas-docs/stable/user_guide/indexing.html#returning-a-view-versus-a-copy\n",
      "  dfsp['typematch'] = np.select(conditions, values)\n"
     ]
    }
   ],
   "source": [
    "dfsp['typematch'] = np.select(conditions, values)"
   ]
  },
  {
   "cell_type": "code",
   "execution_count": 68,
   "id": "d205c44e",
   "metadata": {},
   "outputs": [
    {
     "data": {
      "text/plain": [
       "FIFA World Cup qualification    337\n",
       "UEFA Euro qualification         204\n",
       "Name: typematch, dtype: int64"
      ]
     },
     "execution_count": 68,
     "metadata": {},
     "output_type": "execute_result"
    }
   ],
   "source": [
    "dfsp['typematch'].value_counts()"
   ]
  },
  {
   "cell_type": "markdown",
   "id": "6edc8060",
   "metadata": {},
   "source": [
    "The previous step allows us to compare the probability of winning, losing, or drawing in the two tournaments: FIFA World Cup Qualification and UEFA Euro Qualification."
   ]
  },
  {
   "cell_type": "markdown",
   "id": "4b33b9bd",
   "metadata": {},
   "source": [
    "The following steps are now used to analyze probability."
   ]
  },
  {
   "cell_type": "code",
   "execution_count": 70,
   "id": "62cbe86c",
   "metadata": {},
   "outputs": [],
   "source": [
    "x=pd.crosstab(dfsp['typematch'],dfsp['result'],margins=True)"
   ]
  },
  {
   "cell_type": "code",
   "execution_count": 71,
   "id": "2f04441d",
   "metadata": {},
   "outputs": [
    {
     "data": {
      "text/html": [
       "<div>\n",
       "<style scoped>\n",
       "    .dataframe tbody tr th:only-of-type {\n",
       "        vertical-align: middle;\n",
       "    }\n",
       "\n",
       "    .dataframe tbody tr th {\n",
       "        vertical-align: top;\n",
       "    }\n",
       "\n",
       "    .dataframe thead th {\n",
       "        text-align: right;\n",
       "    }\n",
       "</style>\n",
       "<table border=\"1\" class=\"dataframe\">\n",
       "  <thead>\n",
       "    <tr style=\"text-align: right;\">\n",
       "      <th>result</th>\n",
       "      <th>draw</th>\n",
       "      <th>lose</th>\n",
       "      <th>win</th>\n",
       "      <th>All</th>\n",
       "    </tr>\n",
       "    <tr>\n",
       "      <th>typematch</th>\n",
       "      <th></th>\n",
       "      <th></th>\n",
       "      <th></th>\n",
       "      <th></th>\n",
       "    </tr>\n",
       "  </thead>\n",
       "  <tbody>\n",
       "    <tr>\n",
       "      <th>FIFA World Cup qualification</th>\n",
       "      <td>74</td>\n",
       "      <td>190</td>\n",
       "      <td>73</td>\n",
       "      <td>337</td>\n",
       "    </tr>\n",
       "    <tr>\n",
       "      <th>UEFA Euro qualification</th>\n",
       "      <td>37</td>\n",
       "      <td>137</td>\n",
       "      <td>30</td>\n",
       "      <td>204</td>\n",
       "    </tr>\n",
       "    <tr>\n",
       "      <th>All</th>\n",
       "      <td>111</td>\n",
       "      <td>327</td>\n",
       "      <td>103</td>\n",
       "      <td>541</td>\n",
       "    </tr>\n",
       "  </tbody>\n",
       "</table>\n",
       "</div>"
      ],
      "text/plain": [
       "result                        draw  lose  win  All\n",
       "typematch                                         \n",
       "FIFA World Cup qualification    74   190   73  337\n",
       "UEFA Euro qualification         37   137   30  204\n",
       "All                            111   327  103  541"
      ]
     },
     "execution_count": 71,
     "metadata": {},
     "output_type": "execute_result"
    }
   ],
   "source": [
    "x"
   ]
  },
  {
   "cell_type": "markdown",
   "id": "bcc70d44",
   "metadata": {},
   "source": [
    "This is a contingency table to compare the wins, losses, and draws of the 2 tournaments."
   ]
  },
  {
   "cell_type": "code",
   "execution_count": 88,
   "id": "4d2552df",
   "metadata": {},
   "outputs": [],
   "source": [
    "x=np.array(x)"
   ]
  },
  {
   "cell_type": "code",
   "execution_count": 89,
   "id": "b03f257e",
   "metadata": {},
   "outputs": [
    {
     "data": {
      "text/plain": [
       "array([[ 74, 190,  73, 337],\n",
       "       [ 37, 137,  30, 204],\n",
       "       [111, 327, 103, 541]], dtype=int64)"
      ]
     },
     "execution_count": 89,
     "metadata": {},
     "output_type": "execute_result"
    }
   ],
   "source": [
    "x"
   ]
  },
  {
   "cell_type": "code",
   "execution_count": 94,
   "id": "f77e0465",
   "metadata": {},
   "outputs": [],
   "source": [
    "cispwinfifaworldcupqualification=proportion_confint(count=x[0,2],nobs=x[0,3],alpha=(0.05))"
   ]
  },
  {
   "cell_type": "code",
   "execution_count": 95,
   "id": "a078a3ae",
   "metadata": {},
   "outputs": [
    {
     "data": {
      "text/plain": [
       "(0.17263605538690138, 0.2605983659780838)"
      ]
     },
     "execution_count": 95,
     "metadata": {},
     "output_type": "execute_result"
    }
   ],
   "source": [
    "cispwinfifaworldcupqualification"
   ]
  },
  {
   "cell_type": "code",
   "execution_count": 96,
   "id": "099937d9",
   "metadata": {},
   "outputs": [],
   "source": [
    "cispwinuefaeuroqualification=proportion_confint(count=x[1,2],nobs=x[1,3],alpha=(0.05))"
   ]
  },
  {
   "cell_type": "code",
   "execution_count": 97,
   "id": "2f15fb0a",
   "metadata": {},
   "outputs": [
    {
     "data": {
      "text/plain": [
       "(0.09845861962347333, 0.1956590274353502)"
      ]
     },
     "execution_count": 97,
     "metadata": {},
     "output_type": "execute_result"
    }
   ],
   "source": [
    "cispwinuefaeuroqualification"
   ]
  },
  {
   "cell_type": "markdown",
   "id": "8dae8d49",
   "metadata": {},
   "source": [
    "These are the confidence intervals of the wins of both tournaments"
   ]
  },
  {
   "cell_type": "code",
   "execution_count": 98,
   "id": "8c5ccd71",
   "metadata": {},
   "outputs": [],
   "source": [
    "cisplosefifaworldcupqualification=proportion_confint(count=x[0,1],nobs=x[0,3],alpha=(0.05))"
   ]
  },
  {
   "cell_type": "code",
   "execution_count": 99,
   "id": "ed26dbdc",
   "metadata": {},
   "outputs": [],
   "source": [
    "cisploseuefaeuroqualification=proportion_confint(count=x[1,1],nobs=x[1,3],alpha=(0.05))"
   ]
  },
  {
   "cell_type": "code",
   "execution_count": 100,
   "id": "b5f0ebed",
   "metadata": {},
   "outputs": [
    {
     "data": {
      "text/plain": [
       "(0.5108515426903429, 0.6167448964787966)"
      ]
     },
     "execution_count": 100,
     "metadata": {},
     "output_type": "execute_result"
    }
   ],
   "source": [
    "cisplosefifaworldcupqualification"
   ]
  },
  {
   "cell_type": "code",
   "execution_count": 101,
   "id": "a5933a66",
   "metadata": {},
   "outputs": [
    {
     "data": {
      "text/plain": [
       "(0.6071219510982405, 0.7360153038037202)"
      ]
     },
     "execution_count": 101,
     "metadata": {},
     "output_type": "execute_result"
    }
   ],
   "source": [
    "cisploseuefaeuroqualification"
   ]
  },
  {
   "cell_type": "markdown",
   "id": "dfe32ca7",
   "metadata": {},
   "source": [
    "These are the confidence intervals for the matches lost in both tournamnets"
   ]
  },
  {
   "cell_type": "code",
   "execution_count": 102,
   "id": "eff93eeb",
   "metadata": {},
   "outputs": [
    {
     "data": {
      "text/html": [
       "<div>\n",
       "<style scoped>\n",
       "    .dataframe tbody tr th:only-of-type {\n",
       "        vertical-align: middle;\n",
       "    }\n",
       "\n",
       "    .dataframe tbody tr th {\n",
       "        vertical-align: top;\n",
       "    }\n",
       "\n",
       "    .dataframe thead th {\n",
       "        text-align: right;\n",
       "    }\n",
       "</style>\n",
       "<table border=\"1\" class=\"dataframe\">\n",
       "  <thead>\n",
       "    <tr style=\"text-align: right;\">\n",
       "      <th></th>\n",
       "      <th>Typematch</th>\n",
       "      <th>lb</th>\n",
       "      <th>ub</th>\n",
       "    </tr>\n",
       "  </thead>\n",
       "  <tbody>\n",
       "    <tr>\n",
       "      <th>0</th>\n",
       "      <td>FIFA World Cup qualification</td>\n",
       "      <td>0.172636</td>\n",
       "      <td>0.260598</td>\n",
       "    </tr>\n",
       "    <tr>\n",
       "      <th>1</th>\n",
       "      <td>UEFA Euro qualification</td>\n",
       "      <td>0.098459</td>\n",
       "      <td>0.195659</td>\n",
       "    </tr>\n",
       "  </tbody>\n",
       "</table>\n",
       "</div>"
      ],
      "text/plain": [
       "                      Typematch        lb        ub\n",
       "0  FIFA World Cup qualification  0.172636  0.260598\n",
       "1       UEFA Euro qualification  0.098459  0.195659"
      ]
     },
     "execution_count": 102,
     "metadata": {},
     "output_type": "execute_result"
    }
   ],
   "source": [
    "ci_spwin = {}\n",
    "ci_spwin['Typematch'] = ['FIFA World Cup qualification','UEFA Euro qualification']\n",
    "ci_spwin['lb'] = [cispwinfifaworldcupqualification[0],cispwinuefaeuroqualification[0]]\n",
    "ci_spwin['ub'] = [cispwinfifaworldcupqualification[1],cispwinuefaeuroqualification[1]]\n",
    "df_ci= pd.DataFrame(ci_spwin)\n",
    "df_ci"
   ]
  },
  {
   "cell_type": "code",
   "execution_count": 103,
   "id": "13b6eeeb",
   "metadata": {},
   "outputs": [
    {
     "data": {
      "text/plain": [
       "([<matplotlib.axis.YTick at 0x2b3399c2490>,\n",
       "  <matplotlib.axis.YTick at 0x2b339bd2bb0>],\n",
       " [Text(0, 0, 'FIFA World Cup qualification'),\n",
       "  Text(0, 1, 'UEFA Euro qualification')])"
      ]
     },
     "execution_count": 103,
     "metadata": {},
     "output_type": "execute_result"
    },
    {
     "data": {
      "image/png": "[encoded data removed]",
      "text/plain": [
       "<Figure size 432x288 with 1 Axes>"
      ]
     },
     "metadata": {
      "needs_background": "light"
     },
     "output_type": "display_data"
    }
   ],
   "source": [
    "for lb,ub,y in zip(df_ci['lb'],df_ci['ub'],range(len(df_ci))):\n",
    "    plt.plot((lb,ub),(y,y),'ro-')\n",
    "plt.yticks(range(len(df_ci)),list(df_ci['Typematch']))"
   ]
  },
  {
   "cell_type": "markdown",
   "id": "60a0c5fe",
   "metadata": {},
   "source": [
    "This is the plot of the confidence interval for the wins in both tournaments."
   ]
  },
  {
   "cell_type": "code",
   "execution_count": 104,
   "id": "41f87603",
   "metadata": {},
   "outputs": [
    {
     "data": {
      "text/html": [
       "<div>\n",
       "<style scoped>\n",
       "    .dataframe tbody tr th:only-of-type {\n",
       "        vertical-align: middle;\n",
       "    }\n",
       "\n",
       "    .dataframe tbody tr th {\n",
       "        vertical-align: top;\n",
       "    }\n",
       "\n",
       "    .dataframe thead th {\n",
       "        text-align: right;\n",
       "    }\n",
       "</style>\n",
       "<table border=\"1\" class=\"dataframe\">\n",
       "  <thead>\n",
       "    <tr style=\"text-align: right;\">\n",
       "      <th></th>\n",
       "      <th>Typematch</th>\n",
       "      <th>lb</th>\n",
       "      <th>ub</th>\n",
       "    </tr>\n",
       "  </thead>\n",
       "  <tbody>\n",
       "    <tr>\n",
       "      <th>0</th>\n",
       "      <td>FIFA World Cup qualification</td>\n",
       "      <td>0.510852</td>\n",
       "      <td>0.616745</td>\n",
       "    </tr>\n",
       "    <tr>\n",
       "      <th>1</th>\n",
       "      <td>UEFA Euro qualification</td>\n",
       "      <td>0.607122</td>\n",
       "      <td>0.736015</td>\n",
       "    </tr>\n",
       "  </tbody>\n",
       "</table>\n",
       "</div>"
      ],
      "text/plain": [
       "                      Typematch        lb        ub\n",
       "0  FIFA World Cup qualification  0.510852  0.616745\n",
       "1       UEFA Euro qualification  0.607122  0.736015"
      ]
     },
     "execution_count": 104,
     "metadata": {},
     "output_type": "execute_result"
    }
   ],
   "source": [
    "ci_spwin = {}\n",
    "ci_spwin['Typematch'] = ['FIFA World Cup qualification','UEFA Euro qualification']\n",
    "ci_spwin['lb'] = [cisplosefifaworldcupqualification[0],cisploseuefaeuroqualification[0]]\n",
    "ci_spwin['ub'] = [cisplosefifaworldcupqualification[1],cisploseuefaeuroqualification[1]]\n",
    "df_ci= pd.DataFrame(ci_spwin)\n",
    "df_ci"
   ]
  },
  {
   "cell_type": "code",
   "execution_count": 105,
   "id": "7e024b01",
   "metadata": {},
   "outputs": [
    {
     "data": {
      "text/plain": [
       "([<matplotlib.axis.YTick at 0x2b33e972f10>,\n",
       "  <matplotlib.axis.YTick at 0x2b33e972790>],\n",
       " [Text(0, 0, 'FIFA World Cup qualification'),\n",
       "  Text(0, 1, 'UEFA Euro qualification')])"
      ]
     },
     "execution_count": 105,
     "metadata": {},
     "output_type": "execute_result"
    },
    {
     "data": {
      "image/png": "[encoded data removed]",
      "text/plain": [
       "<Figure size 432x288 with 1 Axes>"
      ]
     },
     "metadata": {
      "needs_background": "light"
     },
     "output_type": "display_data"
    }
   ],
   "source": [
    "for lb,ub,y in zip(df_ci['lb'],df_ci['ub'],range(len(df_ci))):\n",
    "    plt.plot((lb,ub),(y,y),'ro-')\n",
    "plt.yticks(range(len(df_ci)),list(df_ci['Typematch']))"
   ]
  },
  {
   "cell_type": "markdown",
   "id": "4c165aac",
   "metadata": {},
   "source": [
    "This is the plot of the confidence interval for losses in both tournaments "
   ]
  },
  {
   "cell_type": "markdown",
   "id": "5d6b7768",
   "metadata": {},
   "source": [
    "It is clear from the results and graphs that the probability of losing in both tournaments is greater than winning in both tournaments."
   ]
  },
  {
   "cell_type": "markdown",
   "id": "583d5126",
   "metadata": {},
   "source": [
    "Now we check some factors that affect the results of the matches, primarily home/away games."
   ]
  },
  {
   "cell_type": "code",
   "execution_count": 107,
   "id": "3915fb35",
   "metadata": {},
   "outputs": [
    {
     "name": "stderr",
     "output_type": "stream",
     "text": [
      "C:\\Users\\teeto\\AppData\\Local\\Temp\\ipykernel_31572\\2307192130.py:1: SettingWithCopyWarning: \n",
      "A value is trying to be set on a copy of a slice from a DataFrame.\n",
      "Try using .loc[row_indexer,col_indexer] = value instead\n",
      "\n",
      "See the caveats in the documentation: https://pandas.pydata.org/pandas-docs/stable/user_guide/indexing.html#returning-a-view-versus-a-copy\n",
      "  dfsp['home']=(dfsp['home_team']=='Spain')\n"
     ]
    }
   ],
   "source": [
    "dfsp['home']=(dfsp['home_team']=='Spain')"
   ]
  },
  {
   "cell_type": "code",
   "execution_count": 108,
   "id": "4f557691",
   "metadata": {},
   "outputs": [
    {
     "data": {
      "text/plain": [
       "True     317\n",
       "False    224\n",
       "Name: home, dtype: int64"
      ]
     },
     "execution_count": 108,
     "metadata": {},
     "output_type": "execute_result"
    }
   ],
   "source": [
    "dfsp['home'].value_counts()"
   ]
  },
  {
   "cell_type": "code",
   "execution_count": 109,
   "id": "42863a1c",
   "metadata": {},
   "outputs": [],
   "source": [
    "x=pd.crosstab(dfsp['home'],dfsp['result'],margins=True)"
   ]
  },
  {
   "cell_type": "code",
   "execution_count": 110,
   "id": "b12c057e",
   "metadata": {},
   "outputs": [
    {
     "data": {
      "text/html": [
       "<div>\n",
       "<style scoped>\n",
       "    .dataframe tbody tr th:only-of-type {\n",
       "        vertical-align: middle;\n",
       "    }\n",
       "\n",
       "    .dataframe tbody tr th {\n",
       "        vertical-align: top;\n",
       "    }\n",
       "\n",
       "    .dataframe thead th {\n",
       "        text-align: right;\n",
       "    }\n",
       "</style>\n",
       "<table border=\"1\" class=\"dataframe\">\n",
       "  <thead>\n",
       "    <tr style=\"text-align: right;\">\n",
       "      <th>result</th>\n",
       "      <th>draw</th>\n",
       "      <th>lose</th>\n",
       "      <th>win</th>\n",
       "      <th>All</th>\n",
       "    </tr>\n",
       "    <tr>\n",
       "      <th>home</th>\n",
       "      <th></th>\n",
       "      <th></th>\n",
       "      <th></th>\n",
       "      <th></th>\n",
       "    </tr>\n",
       "  </thead>\n",
       "  <tbody>\n",
       "    <tr>\n",
       "      <th>False</th>\n",
       "      <td>53</td>\n",
       "      <td>105</td>\n",
       "      <td>66</td>\n",
       "      <td>224</td>\n",
       "    </tr>\n",
       "    <tr>\n",
       "      <th>True</th>\n",
       "      <td>58</td>\n",
       "      <td>222</td>\n",
       "      <td>37</td>\n",
       "      <td>317</td>\n",
       "    </tr>\n",
       "    <tr>\n",
       "      <th>All</th>\n",
       "      <td>111</td>\n",
       "      <td>327</td>\n",
       "      <td>103</td>\n",
       "      <td>541</td>\n",
       "    </tr>\n",
       "  </tbody>\n",
       "</table>\n",
       "</div>"
      ],
      "text/plain": [
       "result  draw  lose  win  All\n",
       "home                        \n",
       "False     53   105   66  224\n",
       "True      58   222   37  317\n",
       "All      111   327  103  541"
      ]
     },
     "execution_count": 110,
     "metadata": {},
     "output_type": "execute_result"
    }
   ],
   "source": [
    "x"
   ]
  },
  {
   "cell_type": "code",
   "execution_count": 111,
   "id": "abd57bab",
   "metadata": {},
   "outputs": [],
   "source": [
    "x=np.array(x)"
   ]
  },
  {
   "cell_type": "code",
   "execution_count": 112,
   "id": "5628132d",
   "metadata": {},
   "outputs": [
    {
     "data": {
      "text/plain": [
       "array([[ 53, 105,  66, 224],\n",
       "       [ 58, 222,  37, 317],\n",
       "       [111, 327, 103, 541]], dtype=int64)"
      ]
     },
     "execution_count": 112,
     "metadata": {},
     "output_type": "execute_result"
    }
   ],
   "source": [
    "x"
   ]
  },
  {
   "cell_type": "code",
   "execution_count": 115,
   "id": "2cdd7503",
   "metadata": {},
   "outputs": [],
   "source": [
    "CIspwinhome=proportion_confint(count=x[1,2],nobs=x[1,3],alpha=(1-.95))"
   ]
  },
  {
   "cell_type": "code",
   "execution_count": 129,
   "id": "cefa2d5c",
   "metadata": {},
   "outputs": [],
   "source": [
    "CIspwinaway=proportion_confint(count=x[0,2],nobs=x[0,3],alpha=(1-.95))"
   ]
  },
  {
   "cell_type": "code",
   "execution_count": 117,
   "id": "02982c8a",
   "metadata": {},
   "outputs": [
    {
     "data": {
      "text/plain": [
       "(0.08137334038124203, 0.15206514542317437)"
      ]
     },
     "execution_count": 117,
     "metadata": {},
     "output_type": "execute_result"
    }
   ],
   "source": [
    "CIspwinhome"
   ]
  },
  {
   "cell_type": "code",
   "execution_count": 130,
   "id": "0ba3c6e1",
   "metadata": {},
   "outputs": [
    {
     "data": {
      "text/plain": [
       "(0.1532946181949712, 0.21914486038975878)"
      ]
     },
     "execution_count": 130,
     "metadata": {},
     "output_type": "execute_result"
    }
   ],
   "source": [
    "CIspwinaway"
   ]
  },
  {
   "cell_type": "code",
   "execution_count": 131,
   "id": "dc0147be",
   "metadata": {},
   "outputs": [
    {
     "data": {
      "text/html": [
       "<div>\n",
       "<style scoped>\n",
       "    .dataframe tbody tr th:only-of-type {\n",
       "        vertical-align: middle;\n",
       "    }\n",
       "\n",
       "    .dataframe tbody tr th {\n",
       "        vertical-align: top;\n",
       "    }\n",
       "\n",
       "    .dataframe thead th {\n",
       "        text-align: right;\n",
       "    }\n",
       "</style>\n",
       "<table border=\"1\" class=\"dataframe\">\n",
       "  <thead>\n",
       "    <tr style=\"text-align: right;\">\n",
       "      <th></th>\n",
       "      <th>home</th>\n",
       "      <th>lb</th>\n",
       "      <th>ub</th>\n",
       "    </tr>\n",
       "  </thead>\n",
       "  <tbody>\n",
       "    <tr>\n",
       "      <th>0</th>\n",
       "      <td>Yes</td>\n",
       "      <td>0.081373</td>\n",
       "      <td>0.152065</td>\n",
       "    </tr>\n",
       "    <tr>\n",
       "      <th>1</th>\n",
       "      <td>No</td>\n",
       "      <td>0.153295</td>\n",
       "      <td>0.219145</td>\n",
       "    </tr>\n",
       "  </tbody>\n",
       "</table>\n",
       "</div>"
      ],
      "text/plain": [
       "  home        lb        ub\n",
       "0  Yes  0.081373  0.152065\n",
       "1   No  0.153295  0.219145"
      ]
     },
     "execution_count": 131,
     "metadata": {},
     "output_type": "execute_result"
    }
   ],
   "source": [
    "ci_spwin = {}\n",
    "ci_spwin['home'] = ['Yes','No']\n",
    "ci_spwin['lb'] = [CIspwinhome[0],CIspwinaway[0]]\n",
    "ci_spwin['ub'] = [CIspwinhome[1],CIspwinaway[1]]\n",
    "df_ci= pd.DataFrame(ci_spwin)\n",
    "df_ci"
   ]
  },
  {
   "cell_type": "code",
   "execution_count": 132,
   "id": "172370e4",
   "metadata": {},
   "outputs": [
    {
     "data": {
      "text/plain": [
       "([<matplotlib.axis.YTick at 0x2b33ea3fd00>,\n",
       "  <matplotlib.axis.YTick at 0x2b33ea3f580>],\n",
       " [Text(0, 0, 'Yes'), Text(0, 1, 'No')])"
      ]
     },
     "execution_count": 132,
     "metadata": {},
     "output_type": "execute_result"
    },
    {
     "data": {
      "image/png": "[encoded data removed]",
      "text/plain": [
       "<Figure size 432x288 with 1 Axes>"
      ]
     },
     "metadata": {
      "needs_background": "light"
     },
     "output_type": "display_data"
    }
   ],
   "source": [
    "for lb,ub,y in zip(df_ci['lb'],df_ci['ub'],range(len(df_ci))):\n",
    "    plt.plot((lb,ub),(y,y),'ro-')\n",
    "plt.yticks(range(len(df_ci)),list(df_ci['home']))"
   ]
  },
  {
   "cell_type": "markdown",
   "id": "f09af201",
   "metadata": {},
   "source": [
    "As interpreted from the graphs and results of the confidence intervals and the contingency table. It is more likely that Spain wins the matches of the tournaments that they play if they are playing at home rather than playing away."
   ]
  },
  {
   "cell_type": "markdown",
   "id": "868d9151",
   "metadata": {},
   "source": [
    "Now, Question 2"
   ]
  },
  {
   "cell_type": "code",
   "execution_count": 133,
   "id": "a402e120",
   "metadata": {
    "scrolled": true
   },
   "outputs": [],
   "source": [
    "import pandas as pd"
   ]
  },
  {
   "cell_type": "code",
   "execution_count": 134,
   "id": "17e29cdb",
   "metadata": {},
   "outputs": [],
   "source": [
    "df=pd.read_csv(r\"D:\\Seif Data\\AUC\\Fundamentals of Data Science\\Python\\covid_data.csv\",encoding='latin-1')"
   ]
  },
  {
   "cell_type": "code",
   "execution_count": 135,
   "id": "faa7fdb8",
   "metadata": {},
   "outputs": [
    {
     "data": {
      "text/html": [
       "<div>\n",
       "<style scoped>\n",
       "    .dataframe tbody tr th:only-of-type {\n",
       "        vertical-align: middle;\n",
       "    }\n",
       "\n",
       "    .dataframe tbody tr th {\n",
       "        vertical-align: top;\n",
       "    }\n",
       "\n",
       "    .dataframe thead th {\n",
       "        text-align: right;\n",
       "    }\n",
       "</style>\n",
       "<table border=\"1\" class=\"dataframe\">\n",
       "  <thead>\n",
       "    <tr style=\"text-align: right;\">\n",
       "      <th></th>\n",
       "      <th>date</th>\n",
       "      <th>iso3c</th>\n",
       "      <th>country</th>\n",
       "      <th>income</th>\n",
       "      <th>region</th>\n",
       "      <th>continent</th>\n",
       "      <th>dcases</th>\n",
       "      <th>ddeaths</th>\n",
       "      <th>population</th>\n",
       "      <th>weekdays</th>\n",
       "      <th>month</th>\n",
       "    </tr>\n",
       "  </thead>\n",
       "  <tbody>\n",
       "    <tr>\n",
       "      <th>0</th>\n",
       "      <td>2020-02-24</td>\n",
       "      <td>AFG</td>\n",
       "      <td>Afghanistan</td>\n",
       "      <td>Low income</td>\n",
       "      <td>South Asia</td>\n",
       "      <td>Asia</td>\n",
       "      <td>5</td>\n",
       "      <td>0</td>\n",
       "      <td>38041754</td>\n",
       "      <td>Mon</td>\n",
       "      <td>Feb</td>\n",
       "    </tr>\n",
       "    <tr>\n",
       "      <th>1</th>\n",
       "      <td>2020-02-25</td>\n",
       "      <td>AFG</td>\n",
       "      <td>Afghanistan</td>\n",
       "      <td>Low income</td>\n",
       "      <td>South Asia</td>\n",
       "      <td>Asia</td>\n",
       "      <td>0</td>\n",
       "      <td>0</td>\n",
       "      <td>38041754</td>\n",
       "      <td>Tue</td>\n",
       "      <td>Feb</td>\n",
       "    </tr>\n",
       "    <tr>\n",
       "      <th>2</th>\n",
       "      <td>2020-02-26</td>\n",
       "      <td>AFG</td>\n",
       "      <td>Afghanistan</td>\n",
       "      <td>Low income</td>\n",
       "      <td>South Asia</td>\n",
       "      <td>Asia</td>\n",
       "      <td>0</td>\n",
       "      <td>0</td>\n",
       "      <td>38041754</td>\n",
       "      <td>Wed</td>\n",
       "      <td>Feb</td>\n",
       "    </tr>\n",
       "    <tr>\n",
       "      <th>3</th>\n",
       "      <td>2020-02-27</td>\n",
       "      <td>AFG</td>\n",
       "      <td>Afghanistan</td>\n",
       "      <td>Low income</td>\n",
       "      <td>South Asia</td>\n",
       "      <td>Asia</td>\n",
       "      <td>0</td>\n",
       "      <td>0</td>\n",
       "      <td>38041754</td>\n",
       "      <td>Thu</td>\n",
       "      <td>Feb</td>\n",
       "    </tr>\n",
       "    <tr>\n",
       "      <th>4</th>\n",
       "      <td>2020-02-28</td>\n",
       "      <td>AFG</td>\n",
       "      <td>Afghanistan</td>\n",
       "      <td>Low income</td>\n",
       "      <td>South Asia</td>\n",
       "      <td>Asia</td>\n",
       "      <td>0</td>\n",
       "      <td>0</td>\n",
       "      <td>38041754</td>\n",
       "      <td>Fri</td>\n",
       "      <td>Feb</td>\n",
       "    </tr>\n",
       "  </tbody>\n",
       "</table>\n",
       "</div>"
      ],
      "text/plain": [
       "         date iso3c      country      income      region continent  dcases  \\\n",
       "0  2020-02-24   AFG  Afghanistan  Low income  South Asia      Asia       5   \n",
       "1  2020-02-25   AFG  Afghanistan  Low income  South Asia      Asia       0   \n",
       "2  2020-02-26   AFG  Afghanistan  Low income  South Asia      Asia       0   \n",
       "3  2020-02-27   AFG  Afghanistan  Low income  South Asia      Asia       0   \n",
       "4  2020-02-28   AFG  Afghanistan  Low income  South Asia      Asia       0   \n",
       "\n",
       "   ddeaths  population weekdays month  \n",
       "0        0    38041754      Mon   Feb  \n",
       "1        0    38041754      Tue   Feb  \n",
       "2        0    38041754      Wed   Feb  \n",
       "3        0    38041754      Thu   Feb  \n",
       "4        0    38041754      Fri   Feb  "
      ]
     },
     "execution_count": 135,
     "metadata": {},
     "output_type": "execute_result"
    }
   ],
   "source": [
    "df.head()"
   ]
  },
  {
   "cell_type": "markdown",
   "id": "845b5069",
   "metadata": {},
   "source": [
    "We will be analyzing the United States Covid Data"
   ]
  },
  {
   "cell_type": "code",
   "execution_count": 136,
   "id": "c434b881",
   "metadata": {},
   "outputs": [],
   "source": [
    "from pandas.api.types import CategoricalDtype\n",
    "cats=['Fri', 'Sat', 'Sun','Mon','Tue','Wed','Thu']\n",
    "cat_type = CategoricalDtype(categories=cats, ordered=True)\n",
    "df['weekdays'] = df['weekdays'].astype(cat_type)"
   ]
  },
  {
   "cell_type": "code",
   "execution_count": 137,
   "id": "0d00ece9",
   "metadata": {},
   "outputs": [],
   "source": [
    "import numpy as np"
   ]
  },
  {
   "cell_type": "code",
   "execution_count": 138,
   "id": "2098d1c0",
   "metadata": {},
   "outputs": [],
   "source": [
    "dfus=df[df['country']=='United States']"
   ]
  },
  {
   "cell_type": "code",
   "execution_count": 139,
   "id": "d94942ce",
   "metadata": {},
   "outputs": [],
   "source": [
    "stats=dfus.groupby(\"weekdays\").agg({\"dcases\": [np.mean, np.std, np.size]})"
   ]
  },
  {
   "cell_type": "code",
   "execution_count": 140,
   "id": "0395a1f0",
   "metadata": {},
   "outputs": [
    {
     "data": {
      "text/html": [
       "<div>\n",
       "<style scoped>\n",
       "    .dataframe tbody tr th:only-of-type {\n",
       "        vertical-align: middle;\n",
       "    }\n",
       "\n",
       "    .dataframe tbody tr th {\n",
       "        vertical-align: top;\n",
       "    }\n",
       "\n",
       "    .dataframe thead tr th {\n",
       "        text-align: left;\n",
       "    }\n",
       "\n",
       "    .dataframe thead tr:last-of-type th {\n",
       "        text-align: right;\n",
       "    }\n",
       "</style>\n",
       "<table border=\"1\" class=\"dataframe\">\n",
       "  <thead>\n",
       "    <tr>\n",
       "      <th></th>\n",
       "      <th colspan=\"3\" halign=\"left\">dcases</th>\n",
       "    </tr>\n",
       "    <tr>\n",
       "      <th></th>\n",
       "      <th>mean</th>\n",
       "      <th>std</th>\n",
       "      <th>size</th>\n",
       "    </tr>\n",
       "    <tr>\n",
       "      <th>weekdays</th>\n",
       "      <th></th>\n",
       "      <th></th>\n",
       "      <th></th>\n",
       "    </tr>\n",
       "  </thead>\n",
       "  <tbody>\n",
       "    <tr>\n",
       "      <th>Fri</th>\n",
       "      <td>97766.441176</td>\n",
       "      <td>87289.295484</td>\n",
       "      <td>102</td>\n",
       "    </tr>\n",
       "    <tr>\n",
       "      <th>Sat</th>\n",
       "      <td>62373.643564</td>\n",
       "      <td>60491.420445</td>\n",
       "      <td>101</td>\n",
       "    </tr>\n",
       "    <tr>\n",
       "      <th>Sun</th>\n",
       "      <td>50719.475248</td>\n",
       "      <td>50025.738086</td>\n",
       "      <td>101</td>\n",
       "    </tr>\n",
       "    <tr>\n",
       "      <th>Mon</th>\n",
       "      <td>82209.851485</td>\n",
       "      <td>80799.654956</td>\n",
       "      <td>101</td>\n",
       "    </tr>\n",
       "    <tr>\n",
       "      <th>Tue</th>\n",
       "      <td>76927.782178</td>\n",
       "      <td>68045.171075</td>\n",
       "      <td>101</td>\n",
       "    </tr>\n",
       "    <tr>\n",
       "      <th>Wed</th>\n",
       "      <td>84203.774510</td>\n",
       "      <td>78861.612337</td>\n",
       "      <td>102</td>\n",
       "    </tr>\n",
       "    <tr>\n",
       "      <th>Thu</th>\n",
       "      <td>85821.529412</td>\n",
       "      <td>86109.883852</td>\n",
       "      <td>102</td>\n",
       "    </tr>\n",
       "  </tbody>\n",
       "</table>\n",
       "</div>"
      ],
      "text/plain": [
       "                dcases                   \n",
       "                  mean           std size\n",
       "weekdays                                 \n",
       "Fri       97766.441176  87289.295484  102\n",
       "Sat       62373.643564  60491.420445  101\n",
       "Sun       50719.475248  50025.738086  101\n",
       "Mon       82209.851485  80799.654956  101\n",
       "Tue       76927.782178  68045.171075  101\n",
       "Wed       84203.774510  78861.612337  102\n",
       "Thu       85821.529412  86109.883852  102"
      ]
     },
     "execution_count": 140,
     "metadata": {},
     "output_type": "execute_result"
    }
   ],
   "source": [
    "stats"
   ]
  },
  {
   "cell_type": "markdown",
   "id": "6a1163c4",
   "metadata": {},
   "source": [
    "From this finding, we can see that the average daily number of cases is between 50,000 and 100,000 cases"
   ]
  },
  {
   "cell_type": "code",
   "execution_count": 141,
   "id": "dacf639f",
   "metadata": {},
   "outputs": [],
   "source": [
    "stats2=dfus.groupby(\"weekdays\").agg({\"ddeaths\": [np.mean, np.std, np.size]})"
   ]
  },
  {
   "cell_type": "code",
   "execution_count": 142,
   "id": "9b6edfcf",
   "metadata": {},
   "outputs": [
    {
     "data": {
      "text/html": [
       "<div>\n",
       "<style scoped>\n",
       "    .dataframe tbody tr th:only-of-type {\n",
       "        vertical-align: middle;\n",
       "    }\n",
       "\n",
       "    .dataframe tbody tr th {\n",
       "        vertical-align: top;\n",
       "    }\n",
       "\n",
       "    .dataframe thead tr th {\n",
       "        text-align: left;\n",
       "    }\n",
       "\n",
       "    .dataframe thead tr:last-of-type th {\n",
       "        text-align: right;\n",
       "    }\n",
       "</style>\n",
       "<table border=\"1\" class=\"dataframe\">\n",
       "  <thead>\n",
       "    <tr>\n",
       "      <th></th>\n",
       "      <th colspan=\"3\" halign=\"left\">ddeaths</th>\n",
       "    </tr>\n",
       "    <tr>\n",
       "      <th></th>\n",
       "      <th>mean</th>\n",
       "      <th>std</th>\n",
       "      <th>size</th>\n",
       "    </tr>\n",
       "    <tr>\n",
       "      <th>weekdays</th>\n",
       "      <th></th>\n",
       "      <th></th>\n",
       "      <th></th>\n",
       "    </tr>\n",
       "  </thead>\n",
       "  <tbody>\n",
       "    <tr>\n",
       "      <th>Fri</th>\n",
       "      <td>1345.549020</td>\n",
       "      <td>931.774318</td>\n",
       "      <td>102</td>\n",
       "    </tr>\n",
       "    <tr>\n",
       "      <th>Sat</th>\n",
       "      <td>938.415842</td>\n",
       "      <td>813.893436</td>\n",
       "      <td>101</td>\n",
       "    </tr>\n",
       "    <tr>\n",
       "      <th>Sun</th>\n",
       "      <td>570.722772</td>\n",
       "      <td>542.913458</td>\n",
       "      <td>101</td>\n",
       "    </tr>\n",
       "    <tr>\n",
       "      <th>Mon</th>\n",
       "      <td>873.762376</td>\n",
       "      <td>648.856458</td>\n",
       "      <td>101</td>\n",
       "    </tr>\n",
       "    <tr>\n",
       "      <th>Tue</th>\n",
       "      <td>1371.673267</td>\n",
       "      <td>962.491248</td>\n",
       "      <td>101</td>\n",
       "    </tr>\n",
       "    <tr>\n",
       "      <th>Wed</th>\n",
       "      <td>1573.156863</td>\n",
       "      <td>1113.994541</td>\n",
       "      <td>102</td>\n",
       "    </tr>\n",
       "    <tr>\n",
       "      <th>Thu</th>\n",
       "      <td>1480.284314</td>\n",
       "      <td>1108.293491</td>\n",
       "      <td>102</td>\n",
       "    </tr>\n",
       "  </tbody>\n",
       "</table>\n",
       "</div>"
      ],
      "text/plain": [
       "              ddeaths                  \n",
       "                 mean          std size\n",
       "weekdays                               \n",
       "Fri       1345.549020   931.774318  102\n",
       "Sat        938.415842   813.893436  101\n",
       "Sun        570.722772   542.913458  101\n",
       "Mon        873.762376   648.856458  101\n",
       "Tue       1371.673267   962.491248  101\n",
       "Wed       1573.156863  1113.994541  102\n",
       "Thu       1480.284314  1108.293491  102"
      ]
     },
     "execution_count": 142,
     "metadata": {},
     "output_type": "execute_result"
    }
   ],
   "source": [
    "stats2"
   ]
  },
  {
   "cell_type": "markdown",
   "id": "6deea8d3",
   "metadata": {},
   "source": [
    "From this interpretation, we can see that the average number of daily deaths is between 900 and 1400."
   ]
  },
  {
   "cell_type": "code",
   "execution_count": 143,
   "id": "8789bbab",
   "metadata": {},
   "outputs": [
    {
     "name": "stderr",
     "output_type": "stream",
     "text": [
      "C:\\Users\\teeto\\AppData\\Roaming\\Python\\Python39\\site-packages\\numpy\\core\\fromnumeric.py:3472: FutureWarning: In a future version, DataFrame.mean(axis=None) will return a scalar mean over the entire DataFrame. To retain the old behavior, use 'frame.mean(axis=0)' or just 'frame.mean()'\n",
      "  return mean(axis=axis, dtype=dtype, out=out, **kwargs)\n"
     ]
    },
    {
     "data": {
      "text/plain": [
       "dcases  mean    77146.071082\n",
       "        std     73088.968034\n",
       "        size      101.428571\n",
       "dtype: float64"
      ]
     },
     "execution_count": 143,
     "metadata": {},
     "output_type": "execute_result"
    }
   ],
   "source": [
    "np.mean(stats)"
   ]
  },
  {
   "cell_type": "code",
   "execution_count": 144,
   "id": "199cbfaa",
   "metadata": {},
   "outputs": [
    {
     "data": {
      "text/plain": [
       "ddeaths  mean    1164.794922\n",
       "         std      874.602421\n",
       "         size     101.428571\n",
       "dtype: float64"
      ]
     },
     "execution_count": 144,
     "metadata": {},
     "output_type": "execute_result"
    }
   ],
   "source": [
    "np.mean(stats2)"
   ]
  },
  {
   "cell_type": "code",
   "execution_count": 145,
   "id": "d5ff168b",
   "metadata": {},
   "outputs": [
    {
     "data": {
      "text/plain": [
       "66.23146240158488"
      ]
     },
     "execution_count": 145,
     "metadata": {},
     "output_type": "execute_result"
    }
   ],
   "source": [
    "77146.071082/1164.794922"
   ]
  },
  {
   "cell_type": "markdown",
   "id": "969b3cfa",
   "metadata": {},
   "source": [
    "The previous number is the average ratio between the daily number of cases and daily number of deaths."
   ]
  },
  {
   "cell_type": "code",
   "execution_count": 146,
   "id": "3252fd47",
   "metadata": {},
   "outputs": [],
   "source": [
    "import scipy.stats "
   ]
  },
  {
   "cell_type": "code",
   "execution_count": 147,
   "id": "738f8553",
   "metadata": {},
   "outputs": [
    {
     "data": {
      "text/plain": [
       "CategoricalIndex(['Fri', 'Sat', 'Sun', 'Mon', 'Tue', 'Wed', 'Thu'], categories=['Fri', 'Sat', 'Sun', 'Mon', 'Tue', 'Wed', 'Thu'], ordered=True, dtype='category', name='weekdays')"
      ]
     },
     "execution_count": 147,
     "metadata": {},
     "output_type": "execute_result"
    }
   ],
   "source": [
    "stats.index"
   ]
  },
  {
   "cell_type": "code",
   "execution_count": 148,
   "id": "d030379a",
   "metadata": {},
   "outputs": [],
   "source": [
    "ci95_hi = []\n",
    "ci95_lo = []"
   ]
  },
  {
   "cell_type": "code",
   "execution_count": 149,
   "id": "a4e9a523",
   "metadata": {},
   "outputs": [],
   "source": [
    "for i in stats.index:\n",
    "    m, s, n = stats.loc[i]\n",
    "    x=scipy.stats.t.interval(.95, n-1, m,s/np.sqrt(n-1))\n",
    "    ci95_hi.append(x[1])\n",
    "    ci95_lo.append(x[0])"
   ]
  },
  {
   "cell_type": "code",
   "execution_count": 150,
   "id": "5a0b989f",
   "metadata": {},
   "outputs": [
    {
     "data": {
      "text/plain": [
       "[114996.3540828687,\n",
       " 74374.9690916644,\n",
       " 60644.43920277449,\n",
       " 98240.27289844898,\n",
       " 90427.75031630995,\n",
       " 99770.15873456904,\n",
       " 102818.63989269752]"
      ]
     },
     "execution_count": 150,
     "metadata": {},
     "output_type": "execute_result"
    }
   ],
   "source": [
    "ci95_hi"
   ]
  },
  {
   "cell_type": "code",
   "execution_count": 151,
   "id": "f282a34a",
   "metadata": {},
   "outputs": [
    {
     "data": {
      "text/plain": [
       "[80536.52827007248,\n",
       " 50372.318037048455,\n",
       " 40794.51129227501,\n",
       " 66179.43007184804,\n",
       " 63427.8140401257,\n",
       " 68637.3902850388,\n",
       " 68824.41893083187]"
      ]
     },
     "execution_count": 151,
     "metadata": {},
     "output_type": "execute_result"
    }
   ],
   "source": [
    "ci95_lo"
   ]
  },
  {
   "cell_type": "code",
   "execution_count": 152,
   "id": "309bec6b",
   "metadata": {},
   "outputs": [
    {
     "name": "stdout",
     "output_type": "stream",
     "text": [
      "                dcases                           ci95_hi       ci95_lo\n",
      "                  mean           std size                             \n",
      "weekdays                                                              \n",
      "Fri       97766.441176  87289.295484  102  114996.354083  80536.528270\n",
      "Sat       62373.643564  60491.420445  101   74374.969092  50372.318037\n",
      "Sun       50719.475248  50025.738086  101   60644.439203  40794.511292\n",
      "Mon       82209.851485  80799.654956  101   98240.272898  66179.430072\n",
      "Tue       76927.782178  68045.171075  101   90427.750316  63427.814040\n",
      "Wed       84203.774510  78861.612337  102   99770.158735  68637.390285\n",
      "Thu       85821.529412  86109.883852  102  102818.639893  68824.418931\n"
     ]
    }
   ],
   "source": [
    "stats['ci95_hi'] = ci95_hi\n",
    "stats['ci95_lo'] = ci95_lo\n",
    "print(stats)"
   ]
  },
  {
   "cell_type": "code",
   "execution_count": 153,
   "id": "e1b68c8c",
   "metadata": {},
   "outputs": [],
   "source": [
    "df_ci= pd.DataFrame(stats)"
   ]
  },
  {
   "cell_type": "code",
   "execution_count": 154,
   "id": "3240e4d9",
   "metadata": {},
   "outputs": [
    {
     "data": {
      "text/html": [
       "<div>\n",
       "<style scoped>\n",
       "    .dataframe tbody tr th:only-of-type {\n",
       "        vertical-align: middle;\n",
       "    }\n",
       "\n",
       "    .dataframe tbody tr th {\n",
       "        vertical-align: top;\n",
       "    }\n",
       "\n",
       "    .dataframe thead tr th {\n",
       "        text-align: left;\n",
       "    }\n",
       "\n",
       "    .dataframe thead tr:last-of-type th {\n",
       "        text-align: right;\n",
       "    }\n",
       "</style>\n",
       "<table border=\"1\" class=\"dataframe\">\n",
       "  <thead>\n",
       "    <tr>\n",
       "      <th></th>\n",
       "      <th colspan=\"3\" halign=\"left\">dcases</th>\n",
       "      <th>ci95_hi</th>\n",
       "      <th>ci95_lo</th>\n",
       "    </tr>\n",
       "    <tr>\n",
       "      <th></th>\n",
       "      <th>mean</th>\n",
       "      <th>std</th>\n",
       "      <th>size</th>\n",
       "      <th></th>\n",
       "      <th></th>\n",
       "    </tr>\n",
       "    <tr>\n",
       "      <th>weekdays</th>\n",
       "      <th></th>\n",
       "      <th></th>\n",
       "      <th></th>\n",
       "      <th></th>\n",
       "      <th></th>\n",
       "    </tr>\n",
       "  </thead>\n",
       "  <tbody>\n",
       "    <tr>\n",
       "      <th>Fri</th>\n",
       "      <td>97766.441176</td>\n",
       "      <td>87289.295484</td>\n",
       "      <td>102</td>\n",
       "      <td>114996.354083</td>\n",
       "      <td>80536.528270</td>\n",
       "    </tr>\n",
       "    <tr>\n",
       "      <th>Sat</th>\n",
       "      <td>62373.643564</td>\n",
       "      <td>60491.420445</td>\n",
       "      <td>101</td>\n",
       "      <td>74374.969092</td>\n",
       "      <td>50372.318037</td>\n",
       "    </tr>\n",
       "    <tr>\n",
       "      <th>Sun</th>\n",
       "      <td>50719.475248</td>\n",
       "      <td>50025.738086</td>\n",
       "      <td>101</td>\n",
       "      <td>60644.439203</td>\n",
       "      <td>40794.511292</td>\n",
       "    </tr>\n",
       "    <tr>\n",
       "      <th>Mon</th>\n",
       "      <td>82209.851485</td>\n",
       "      <td>80799.654956</td>\n",
       "      <td>101</td>\n",
       "      <td>98240.272898</td>\n",
       "      <td>66179.430072</td>\n",
       "    </tr>\n",
       "    <tr>\n",
       "      <th>Tue</th>\n",
       "      <td>76927.782178</td>\n",
       "      <td>68045.171075</td>\n",
       "      <td>101</td>\n",
       "      <td>90427.750316</td>\n",
       "      <td>63427.814040</td>\n",
       "    </tr>\n",
       "    <tr>\n",
       "      <th>Wed</th>\n",
       "      <td>84203.774510</td>\n",
       "      <td>78861.612337</td>\n",
       "      <td>102</td>\n",
       "      <td>99770.158735</td>\n",
       "      <td>68637.390285</td>\n",
       "    </tr>\n",
       "    <tr>\n",
       "      <th>Thu</th>\n",
       "      <td>85821.529412</td>\n",
       "      <td>86109.883852</td>\n",
       "      <td>102</td>\n",
       "      <td>102818.639893</td>\n",
       "      <td>68824.418931</td>\n",
       "    </tr>\n",
       "  </tbody>\n",
       "</table>\n",
       "</div>"
      ],
      "text/plain": [
       "                dcases                           ci95_hi       ci95_lo\n",
       "                  mean           std size                             \n",
       "weekdays                                                              \n",
       "Fri       97766.441176  87289.295484  102  114996.354083  80536.528270\n",
       "Sat       62373.643564  60491.420445  101   74374.969092  50372.318037\n",
       "Sun       50719.475248  50025.738086  101   60644.439203  40794.511292\n",
       "Mon       82209.851485  80799.654956  101   98240.272898  66179.430072\n",
       "Tue       76927.782178  68045.171075  101   90427.750316  63427.814040\n",
       "Wed       84203.774510  78861.612337  102   99770.158735  68637.390285\n",
       "Thu       85821.529412  86109.883852  102  102818.639893  68824.418931"
      ]
     },
     "execution_count": 154,
     "metadata": {},
     "output_type": "execute_result"
    }
   ],
   "source": [
    "df_ci"
   ]
  },
  {
   "cell_type": "markdown",
   "id": "477a2146",
   "metadata": {},
   "source": [
    "The previous process was creating a data frame of the confidence intervals of the daily number of cases in the United States. They were measured using 95% confidence interval."
   ]
  },
  {
   "cell_type": "code",
   "execution_count": 155,
   "id": "c2048fd1",
   "metadata": {},
   "outputs": [
    {
     "data": {
      "text/plain": [
       "CategoricalIndex(['Fri', 'Sat', 'Sun', 'Mon', 'Tue', 'Wed', 'Thu'], categories=['Fri', 'Sat', 'Sun', 'Mon', 'Tue', 'Wed', 'Thu'], ordered=True, dtype='category', name='weekdays')"
      ]
     },
     "execution_count": 155,
     "metadata": {},
     "output_type": "execute_result"
    }
   ],
   "source": [
    "df_ci.index"
   ]
  },
  {
   "cell_type": "code",
   "execution_count": 156,
   "id": "11abf861",
   "metadata": {},
   "outputs": [],
   "source": [
    "df_ci['weekdays']=df_ci.index"
   ]
  },
  {
   "cell_type": "code",
   "execution_count": 157,
   "id": "565b9559",
   "metadata": {},
   "outputs": [
    {
     "data": {
      "text/html": [
       "<div>\n",
       "<style scoped>\n",
       "    .dataframe tbody tr th:only-of-type {\n",
       "        vertical-align: middle;\n",
       "    }\n",
       "\n",
       "    .dataframe tbody tr th {\n",
       "        vertical-align: top;\n",
       "    }\n",
       "\n",
       "    .dataframe thead tr th {\n",
       "        text-align: left;\n",
       "    }\n",
       "\n",
       "    .dataframe thead tr:last-of-type th {\n",
       "        text-align: right;\n",
       "    }\n",
       "</style>\n",
       "<table border=\"1\" class=\"dataframe\">\n",
       "  <thead>\n",
       "    <tr>\n",
       "      <th></th>\n",
       "      <th colspan=\"3\" halign=\"left\">dcases</th>\n",
       "      <th>ci95_hi</th>\n",
       "      <th>ci95_lo</th>\n",
       "      <th>weekdays</th>\n",
       "    </tr>\n",
       "    <tr>\n",
       "      <th></th>\n",
       "      <th>mean</th>\n",
       "      <th>std</th>\n",
       "      <th>size</th>\n",
       "      <th></th>\n",
       "      <th></th>\n",
       "      <th></th>\n",
       "    </tr>\n",
       "    <tr>\n",
       "      <th>weekdays</th>\n",
       "      <th></th>\n",
       "      <th></th>\n",
       "      <th></th>\n",
       "      <th></th>\n",
       "      <th></th>\n",
       "      <th></th>\n",
       "    </tr>\n",
       "  </thead>\n",
       "  <tbody>\n",
       "    <tr>\n",
       "      <th>Fri</th>\n",
       "      <td>97766.441176</td>\n",
       "      <td>87289.295484</td>\n",
       "      <td>102</td>\n",
       "      <td>114996.354083</td>\n",
       "      <td>80536.528270</td>\n",
       "      <td>Fri</td>\n",
       "    </tr>\n",
       "    <tr>\n",
       "      <th>Sat</th>\n",
       "      <td>62373.643564</td>\n",
       "      <td>60491.420445</td>\n",
       "      <td>101</td>\n",
       "      <td>74374.969092</td>\n",
       "      <td>50372.318037</td>\n",
       "      <td>Sat</td>\n",
       "    </tr>\n",
       "    <tr>\n",
       "      <th>Sun</th>\n",
       "      <td>50719.475248</td>\n",
       "      <td>50025.738086</td>\n",
       "      <td>101</td>\n",
       "      <td>60644.439203</td>\n",
       "      <td>40794.511292</td>\n",
       "      <td>Sun</td>\n",
       "    </tr>\n",
       "    <tr>\n",
       "      <th>Mon</th>\n",
       "      <td>82209.851485</td>\n",
       "      <td>80799.654956</td>\n",
       "      <td>101</td>\n",
       "      <td>98240.272898</td>\n",
       "      <td>66179.430072</td>\n",
       "      <td>Mon</td>\n",
       "    </tr>\n",
       "    <tr>\n",
       "      <th>Tue</th>\n",
       "      <td>76927.782178</td>\n",
       "      <td>68045.171075</td>\n",
       "      <td>101</td>\n",
       "      <td>90427.750316</td>\n",
       "      <td>63427.814040</td>\n",
       "      <td>Tue</td>\n",
       "    </tr>\n",
       "    <tr>\n",
       "      <th>Wed</th>\n",
       "      <td>84203.774510</td>\n",
       "      <td>78861.612337</td>\n",
       "      <td>102</td>\n",
       "      <td>99770.158735</td>\n",
       "      <td>68637.390285</td>\n",
       "      <td>Wed</td>\n",
       "    </tr>\n",
       "    <tr>\n",
       "      <th>Thu</th>\n",
       "      <td>85821.529412</td>\n",
       "      <td>86109.883852</td>\n",
       "      <td>102</td>\n",
       "      <td>102818.639893</td>\n",
       "      <td>68824.418931</td>\n",
       "      <td>Thu</td>\n",
       "    </tr>\n",
       "  </tbody>\n",
       "</table>\n",
       "</div>"
      ],
      "text/plain": [
       "                dcases                           ci95_hi       ci95_lo  \\\n",
       "                  mean           std size                                \n",
       "weekdays                                                                 \n",
       "Fri       97766.441176  87289.295484  102  114996.354083  80536.528270   \n",
       "Sat       62373.643564  60491.420445  101   74374.969092  50372.318037   \n",
       "Sun       50719.475248  50025.738086  101   60644.439203  40794.511292   \n",
       "Mon       82209.851485  80799.654956  101   98240.272898  66179.430072   \n",
       "Tue       76927.782178  68045.171075  101   90427.750316  63427.814040   \n",
       "Wed       84203.774510  78861.612337  102   99770.158735  68637.390285   \n",
       "Thu       85821.529412  86109.883852  102  102818.639893  68824.418931   \n",
       "\n",
       "         weekdays  \n",
       "                   \n",
       "weekdays           \n",
       "Fri           Fri  \n",
       "Sat           Sat  \n",
       "Sun           Sun  \n",
       "Mon           Mon  \n",
       "Tue           Tue  \n",
       "Wed           Wed  \n",
       "Thu           Thu  "
      ]
     },
     "execution_count": 157,
     "metadata": {},
     "output_type": "execute_result"
    }
   ],
   "source": [
    "df_ci"
   ]
  },
  {
   "cell_type": "code",
   "execution_count": 158,
   "id": "edb75552",
   "metadata": {},
   "outputs": [
    {
     "data": {
      "text/plain": [
       "MultiIndex([(  'dcases', 'mean'),\n",
       "            (  'dcases',  'std'),\n",
       "            (  'dcases', 'size'),\n",
       "            ( 'ci95_hi',     ''),\n",
       "            ( 'ci95_lo',     ''),\n",
       "            ('weekdays',     '')],\n",
       "           )"
      ]
     },
     "execution_count": 158,
     "metadata": {},
     "output_type": "execute_result"
    }
   ],
   "source": [
    "df_ci.columns"
   ]
  },
  {
   "cell_type": "code",
   "execution_count": 159,
   "id": "c47af63f",
   "metadata": {},
   "outputs": [],
   "source": [
    "import matplotlib.pyplot as plt"
   ]
  },
  {
   "cell_type": "code",
   "execution_count": 160,
   "id": "53314d0d",
   "metadata": {},
   "outputs": [
    {
     "data": {
      "text/plain": [
       "([<matplotlib.axis.YTick at 0x2445cd685b0>,\n",
       "  <matplotlib.axis.YTick at 0x2445cd60df0>,\n",
       "  <matplotlib.axis.YTick at 0x2445cd60310>,\n",
       "  <matplotlib.axis.YTick at 0x2445cd9e160>,\n",
       "  <matplotlib.axis.YTick at 0x2445cd9e8b0>,\n",
       "  <matplotlib.axis.YTick at 0x2445cda3040>,\n",
       "  <matplotlib.axis.YTick at 0x2445cda3790>],\n",
       " [Text(0, 0, 'Fri'),\n",
       "  Text(0, 1, 'Sat'),\n",
       "  Text(0, 2, 'Sun'),\n",
       "  Text(0, 3, 'Mon'),\n",
       "  Text(0, 4, 'Tue'),\n",
       "  Text(0, 5, 'Wed'),\n",
       "  Text(0, 6, 'Thu')])"
      ]
     },
     "execution_count": 160,
     "metadata": {},
     "output_type": "execute_result"
    },
    {
     "data": {
      "image/png": "[encoded data removed]",
      "text/plain": [
       "<Figure size 432x288 with 1 Axes>"
      ]
     },
     "metadata": {
      "needs_background": "light"
     },
     "output_type": "display_data"
    }
   ],
   "source": [
    "for lb,ub,y in zip(df_ci['ci95_lo'],df_ci['ci95_hi'],range(len(df_ci))):\n",
    "    plt.plot((lb,ub),(y,y),'ro-')\n",
    "plt.yticks(range(len(df_ci)),list(df_ci['weekdays']))"
   ]
  },
  {
   "cell_type": "markdown",
   "id": "b0743c24",
   "metadata": {},
   "source": [
    "As presented above, deduced is the confidence intervals of the daily cases of the United States. They have been divided using the variable 'weekdays'."
   ]
  },
  {
   "cell_type": "markdown",
   "id": "adeb54b8",
   "metadata": {},
   "source": [
    "We will now get the COVID cases by month for United States to draw a graph comparing years 2020 and 2021."
   ]
  },
  {
   "cell_type": "code",
   "execution_count": 161,
   "id": "eb5cbf7a",
   "metadata": {},
   "outputs": [],
   "source": [
    "from pandas.api.types import CategoricalDtype\n",
    "cats=['Jan', 'Feb', 'Mar','Apr','May','Jun','Jul','Aug','Sep','Oct','Nov','Dec']\n",
    "cat_type = CategoricalDtype(categories=cats, ordered=True)\n",
    "df['month'] = df['month'].astype(cat_type)"
   ]
  },
  {
   "cell_type": "code",
   "execution_count": 162,
   "id": "67a52a9b",
   "metadata": {},
   "outputs": [],
   "source": [
    "dfus=df[df['country']=='United States']"
   ]
  },
  {
   "cell_type": "code",
   "execution_count": 163,
   "id": "10f809cb",
   "metadata": {},
   "outputs": [],
   "source": [
    "stats=dfus.groupby(\"month\").agg({\"dcases\": [np.mean, np.std, np.size]})"
   ]
  },
  {
   "cell_type": "code",
   "execution_count": 164,
   "id": "386c011a",
   "metadata": {},
   "outputs": [],
   "source": [
    "stats=pd.DataFrame(stats)"
   ]
  },
  {
   "cell_type": "code",
   "execution_count": 165,
   "id": "91e9b60b",
   "metadata": {},
   "outputs": [],
   "source": [
    "stats.columns=['mean','std','size']"
   ]
  },
  {
   "cell_type": "code",
   "execution_count": 166,
   "id": "2be2ae26",
   "metadata": {},
   "outputs": [
    {
     "data": {
      "text/plain": [
       "Index(['mean', 'std', 'size'], dtype='object')"
      ]
     },
     "execution_count": 166,
     "metadata": {},
     "output_type": "execute_result"
    }
   ],
   "source": [
    "stats.columns"
   ]
  },
  {
   "cell_type": "code",
   "execution_count": 167,
   "id": "36619d2e",
   "metadata": {},
   "outputs": [],
   "source": [
    "import numpy as np\n",
    "from scipy.stats import norm,t"
   ]
  },
  {
   "cell_type": "code",
   "execution_count": 168,
   "id": "acfdbc7c",
   "metadata": {},
   "outputs": [],
   "source": [
    "def get_ci_lb(x, alpha=0.05):\n",
    "    sample_s=np.std(x)\n",
    "    sample_mean=np.mean(x)\n",
    "    sample_size=len(x)\n",
    "    margin_of_error = t.ppf(1 - alpha/2,sample_size-1)*sample_s/np.sqrt(sample_size-1)\n",
    "    return sample_mean - margin_of_error"
   ]
  },
  {
   "cell_type": "code",
   "execution_count": 169,
   "id": "0409941b",
   "metadata": {},
   "outputs": [],
   "source": [
    "x=dfus['dcases']"
   ]
  },
  {
   "cell_type": "code",
   "execution_count": 170,
   "id": "18b26997",
   "metadata": {},
   "outputs": [
    {
     "data": {
      "text/plain": [
       "71642.2273804623"
      ]
     },
     "execution_count": 170,
     "metadata": {},
     "output_type": "execute_result"
    }
   ],
   "source": [
    "get_ci_lb(x)"
   ]
  },
  {
   "cell_type": "code",
   "execution_count": 171,
   "id": "c7ea29db",
   "metadata": {},
   "outputs": [],
   "source": [
    "def get_ci_ub(x, alpha=0.05):\n",
    "    sample_s=np.std(x)\n",
    "    sample_mean=np.mean(x)\n",
    "    sample_size=len(x)\n",
    "    margin_of_error = t.ppf(1 - alpha/2,sample_size-1)*sample_s/np.sqrt(sample_size-1)\n",
    "    return sample_mean + margin_of_error"
   ]
  },
  {
   "cell_type": "code",
   "execution_count": 172,
   "id": "4e70f2ce",
   "metadata": {},
   "outputs": [
    {
     "data": {
      "text/plain": [
       "82752.31909841094"
      ]
     },
     "execution_count": 172,
     "metadata": {},
     "output_type": "execute_result"
    }
   ],
   "source": [
    "get_ci_ub(x)"
   ]
  },
  {
   "cell_type": "code",
   "execution_count": 173,
   "id": "c1dae313",
   "metadata": {},
   "outputs": [
    {
     "data": {
      "text/html": [
       "<div>\n",
       "<style scoped>\n",
       "    .dataframe tbody tr th:only-of-type {\n",
       "        vertical-align: middle;\n",
       "    }\n",
       "\n",
       "    .dataframe tbody tr th {\n",
       "        vertical-align: top;\n",
       "    }\n",
       "\n",
       "    .dataframe thead tr th {\n",
       "        text-align: left;\n",
       "    }\n",
       "\n",
       "    .dataframe thead tr:last-of-type th {\n",
       "        text-align: right;\n",
       "    }\n",
       "</style>\n",
       "<table border=\"1\" class=\"dataframe\">\n",
       "  <thead>\n",
       "    <tr>\n",
       "      <th></th>\n",
       "      <th colspan=\"5\" halign=\"left\">dcases</th>\n",
       "    </tr>\n",
       "    <tr>\n",
       "      <th></th>\n",
       "      <th>mean</th>\n",
       "      <th>std</th>\n",
       "      <th>size</th>\n",
       "      <th>get_ci_lb</th>\n",
       "      <th>get_ci_ub</th>\n",
       "    </tr>\n",
       "    <tr>\n",
       "      <th>month</th>\n",
       "      <th></th>\n",
       "      <th></th>\n",
       "      <th></th>\n",
       "      <th></th>\n",
       "      <th></th>\n",
       "    </tr>\n",
       "  </thead>\n",
       "  <tbody>\n",
       "    <tr>\n",
       "      <th>Jan</th>\n",
       "      <td>150053.024390</td>\n",
       "      <td>96139.362790</td>\n",
       "      <td>41</td>\n",
       "      <td>119707.697286</td>\n",
       "      <td>180398.351494</td>\n",
       "    </tr>\n",
       "    <tr>\n",
       "      <th>Feb</th>\n",
       "      <td>42262.649123</td>\n",
       "      <td>46506.630379</td>\n",
       "      <td>57</td>\n",
       "      <td>29922.779102</td>\n",
       "      <td>54602.519143</td>\n",
       "    </tr>\n",
       "    <tr>\n",
       "      <th>Mar</th>\n",
       "      <td>32362.080645</td>\n",
       "      <td>28088.831049</td>\n",
       "      <td>62</td>\n",
       "      <td>25228.853207</td>\n",
       "      <td>39495.308083</td>\n",
       "    </tr>\n",
       "    <tr>\n",
       "      <th>Apr</th>\n",
       "      <td>46206.983333</td>\n",
       "      <td>19424.943033</td>\n",
       "      <td>60</td>\n",
       "      <td>41188.988453</td>\n",
       "      <td>51224.978214</td>\n",
       "    </tr>\n",
       "    <tr>\n",
       "      <th>May</th>\n",
       "      <td>26359.209677</td>\n",
       "      <td>9226.362611</td>\n",
       "      <td>62</td>\n",
       "      <td>24016.152296</td>\n",
       "      <td>28702.267059</td>\n",
       "    </tr>\n",
       "    <tr>\n",
       "      <th>Jun</th>\n",
       "      <td>20927.733333</td>\n",
       "      <td>10905.385581</td>\n",
       "      <td>60</td>\n",
       "      <td>18110.573513</td>\n",
       "      <td>23744.893153</td>\n",
       "    </tr>\n",
       "    <tr>\n",
       "      <th>Jul</th>\n",
       "      <td>51912.387097</td>\n",
       "      <td>28977.563351</td>\n",
       "      <td>62</td>\n",
       "      <td>44553.463914</td>\n",
       "      <td>59271.310280</td>\n",
       "    </tr>\n",
       "    <tr>\n",
       "      <th>Aug</th>\n",
       "      <td>93187.225806</td>\n",
       "      <td>66340.454536</td>\n",
       "      <td>62</td>\n",
       "      <td>76339.904900</td>\n",
       "      <td>110034.546713</td>\n",
       "    </tr>\n",
       "    <tr>\n",
       "      <th>Sep</th>\n",
       "      <td>89110.316667</td>\n",
       "      <td>66304.148991</td>\n",
       "      <td>60</td>\n",
       "      <td>71982.138755</td>\n",
       "      <td>106238.494579</td>\n",
       "    </tr>\n",
       "    <tr>\n",
       "      <th>Oct</th>\n",
       "      <td>71428.387097</td>\n",
       "      <td>29855.299548</td>\n",
       "      <td>62</td>\n",
       "      <td>63846.560657</td>\n",
       "      <td>79010.213537</td>\n",
       "    </tr>\n",
       "    <tr>\n",
       "      <th>Nov</th>\n",
       "      <td>116959.483333</td>\n",
       "      <td>49303.330529</td>\n",
       "      <td>60</td>\n",
       "      <td>104223.082522</td>\n",
       "      <td>129695.884144</td>\n",
       "    </tr>\n",
       "    <tr>\n",
       "      <th>Dec</th>\n",
       "      <td>206309.548387</td>\n",
       "      <td>104452.758335</td>\n",
       "      <td>62</td>\n",
       "      <td>179783.514589</td>\n",
       "      <td>232835.582185</td>\n",
       "    </tr>\n",
       "  </tbody>\n",
       "</table>\n",
       "</div>"
      ],
      "text/plain": [
       "              dcases                                                  \n",
       "                mean            std size      get_ci_lb      get_ci_ub\n",
       "month                                                                 \n",
       "Jan    150053.024390   96139.362790   41  119707.697286  180398.351494\n",
       "Feb     42262.649123   46506.630379   57   29922.779102   54602.519143\n",
       "Mar     32362.080645   28088.831049   62   25228.853207   39495.308083\n",
       "Apr     46206.983333   19424.943033   60   41188.988453   51224.978214\n",
       "May     26359.209677    9226.362611   62   24016.152296   28702.267059\n",
       "Jun     20927.733333   10905.385581   60   18110.573513   23744.893153\n",
       "Jul     51912.387097   28977.563351   62   44553.463914   59271.310280\n",
       "Aug     93187.225806   66340.454536   62   76339.904900  110034.546713\n",
       "Sep     89110.316667   66304.148991   60   71982.138755  106238.494579\n",
       "Oct     71428.387097   29855.299548   62   63846.560657   79010.213537\n",
       "Nov    116959.483333   49303.330529   60  104223.082522  129695.884144\n",
       "Dec    206309.548387  104452.758335   62  179783.514589  232835.582185"
      ]
     },
     "execution_count": 173,
     "metadata": {},
     "output_type": "execute_result"
    }
   ],
   "source": [
    "ci_dcases=statsm=dfus.groupby(\"month\").agg({\"dcases\": [np.mean, np.std, np.size,get_ci_lb,get_ci_ub]})\n",
    "statsm"
   ]
  },
  {
   "cell_type": "code",
   "execution_count": 174,
   "id": "3493bcf4",
   "metadata": {},
   "outputs": [
    {
     "data": {
      "text/plain": [
       "CategoricalIndex(['Jan', 'Feb', 'Mar', 'Apr', 'May', 'Jun', 'Jul', 'Aug',\n",
       "                  'Sep', 'Oct', 'Nov', 'Dec'],\n",
       "                 categories=['Jan', 'Feb', 'Mar', 'Apr', 'May', 'Jun', 'Jul', 'Aug', ...], ordered=True, dtype='category', name='month')"
      ]
     },
     "execution_count": 174,
     "metadata": {},
     "output_type": "execute_result"
    }
   ],
   "source": [
    "statsm.index"
   ]
  },
  {
   "cell_type": "code",
   "execution_count": 175,
   "id": "e5bef200",
   "metadata": {},
   "outputs": [],
   "source": [
    "statsm.columns=['mean','std','size','lb','ub']"
   ]
  },
  {
   "cell_type": "code",
   "execution_count": 176,
   "id": "89064077",
   "metadata": {},
   "outputs": [],
   "source": [
    "statsm['month']=statsm.index"
   ]
  },
  {
   "cell_type": "code",
   "execution_count": 177,
   "id": "c52aec97",
   "metadata": {},
   "outputs": [
    {
     "data": {
      "text/html": [
       "<div>\n",
       "<style scoped>\n",
       "    .dataframe tbody tr th:only-of-type {\n",
       "        vertical-align: middle;\n",
       "    }\n",
       "\n",
       "    .dataframe tbody tr th {\n",
       "        vertical-align: top;\n",
       "    }\n",
       "\n",
       "    .dataframe thead th {\n",
       "        text-align: right;\n",
       "    }\n",
       "</style>\n",
       "<table border=\"1\" class=\"dataframe\">\n",
       "  <thead>\n",
       "    <tr style=\"text-align: right;\">\n",
       "      <th></th>\n",
       "      <th>mean</th>\n",
       "      <th>std</th>\n",
       "      <th>size</th>\n",
       "      <th>lb</th>\n",
       "      <th>ub</th>\n",
       "      <th>month</th>\n",
       "    </tr>\n",
       "    <tr>\n",
       "      <th>month</th>\n",
       "      <th></th>\n",
       "      <th></th>\n",
       "      <th></th>\n",
       "      <th></th>\n",
       "      <th></th>\n",
       "      <th></th>\n",
       "    </tr>\n",
       "  </thead>\n",
       "  <tbody>\n",
       "    <tr>\n",
       "      <th>Jan</th>\n",
       "      <td>150053.024390</td>\n",
       "      <td>96139.362790</td>\n",
       "      <td>41</td>\n",
       "      <td>119707.697286</td>\n",
       "      <td>180398.351494</td>\n",
       "      <td>Jan</td>\n",
       "    </tr>\n",
       "    <tr>\n",
       "      <th>Feb</th>\n",
       "      <td>42262.649123</td>\n",
       "      <td>46506.630379</td>\n",
       "      <td>57</td>\n",
       "      <td>29922.779102</td>\n",
       "      <td>54602.519143</td>\n",
       "      <td>Feb</td>\n",
       "    </tr>\n",
       "    <tr>\n",
       "      <th>Mar</th>\n",
       "      <td>32362.080645</td>\n",
       "      <td>28088.831049</td>\n",
       "      <td>62</td>\n",
       "      <td>25228.853207</td>\n",
       "      <td>39495.308083</td>\n",
       "      <td>Mar</td>\n",
       "    </tr>\n",
       "    <tr>\n",
       "      <th>Apr</th>\n",
       "      <td>46206.983333</td>\n",
       "      <td>19424.943033</td>\n",
       "      <td>60</td>\n",
       "      <td>41188.988453</td>\n",
       "      <td>51224.978214</td>\n",
       "      <td>Apr</td>\n",
       "    </tr>\n",
       "    <tr>\n",
       "      <th>May</th>\n",
       "      <td>26359.209677</td>\n",
       "      <td>9226.362611</td>\n",
       "      <td>62</td>\n",
       "      <td>24016.152296</td>\n",
       "      <td>28702.267059</td>\n",
       "      <td>May</td>\n",
       "    </tr>\n",
       "    <tr>\n",
       "      <th>Jun</th>\n",
       "      <td>20927.733333</td>\n",
       "      <td>10905.385581</td>\n",
       "      <td>60</td>\n",
       "      <td>18110.573513</td>\n",
       "      <td>23744.893153</td>\n",
       "      <td>Jun</td>\n",
       "    </tr>\n",
       "    <tr>\n",
       "      <th>Jul</th>\n",
       "      <td>51912.387097</td>\n",
       "      <td>28977.563351</td>\n",
       "      <td>62</td>\n",
       "      <td>44553.463914</td>\n",
       "      <td>59271.310280</td>\n",
       "      <td>Jul</td>\n",
       "    </tr>\n",
       "    <tr>\n",
       "      <th>Aug</th>\n",
       "      <td>93187.225806</td>\n",
       "      <td>66340.454536</td>\n",
       "      <td>62</td>\n",
       "      <td>76339.904900</td>\n",
       "      <td>110034.546713</td>\n",
       "      <td>Aug</td>\n",
       "    </tr>\n",
       "    <tr>\n",
       "      <th>Sep</th>\n",
       "      <td>89110.316667</td>\n",
       "      <td>66304.148991</td>\n",
       "      <td>60</td>\n",
       "      <td>71982.138755</td>\n",
       "      <td>106238.494579</td>\n",
       "      <td>Sep</td>\n",
       "    </tr>\n",
       "    <tr>\n",
       "      <th>Oct</th>\n",
       "      <td>71428.387097</td>\n",
       "      <td>29855.299548</td>\n",
       "      <td>62</td>\n",
       "      <td>63846.560657</td>\n",
       "      <td>79010.213537</td>\n",
       "      <td>Oct</td>\n",
       "    </tr>\n",
       "    <tr>\n",
       "      <th>Nov</th>\n",
       "      <td>116959.483333</td>\n",
       "      <td>49303.330529</td>\n",
       "      <td>60</td>\n",
       "      <td>104223.082522</td>\n",
       "      <td>129695.884144</td>\n",
       "      <td>Nov</td>\n",
       "    </tr>\n",
       "    <tr>\n",
       "      <th>Dec</th>\n",
       "      <td>206309.548387</td>\n",
       "      <td>104452.758335</td>\n",
       "      <td>62</td>\n",
       "      <td>179783.514589</td>\n",
       "      <td>232835.582185</td>\n",
       "      <td>Dec</td>\n",
       "    </tr>\n",
       "  </tbody>\n",
       "</table>\n",
       "</div>"
      ],
      "text/plain": [
       "                mean            std  size             lb             ub month\n",
       "month                                                                        \n",
       "Jan    150053.024390   96139.362790    41  119707.697286  180398.351494   Jan\n",
       "Feb     42262.649123   46506.630379    57   29922.779102   54602.519143   Feb\n",
       "Mar     32362.080645   28088.831049    62   25228.853207   39495.308083   Mar\n",
       "Apr     46206.983333   19424.943033    60   41188.988453   51224.978214   Apr\n",
       "May     26359.209677    9226.362611    62   24016.152296   28702.267059   May\n",
       "Jun     20927.733333   10905.385581    60   18110.573513   23744.893153   Jun\n",
       "Jul     51912.387097   28977.563351    62   44553.463914   59271.310280   Jul\n",
       "Aug     93187.225806   66340.454536    62   76339.904900  110034.546713   Aug\n",
       "Sep     89110.316667   66304.148991    60   71982.138755  106238.494579   Sep\n",
       "Oct     71428.387097   29855.299548    62   63846.560657   79010.213537   Oct\n",
       "Nov    116959.483333   49303.330529    60  104223.082522  129695.884144   Nov\n",
       "Dec    206309.548387  104452.758335    62  179783.514589  232835.582185   Dec"
      ]
     },
     "execution_count": 177,
     "metadata": {},
     "output_type": "execute_result"
    }
   ],
   "source": [
    "statsm"
   ]
  },
  {
   "cell_type": "code",
   "execution_count": 178,
   "id": "0ed9d13a",
   "metadata": {},
   "outputs": [
    {
     "data": {
      "image/png": "[encoded data removed]",
      "text/plain": [
       "<Figure size 432x288 with 1 Axes>"
      ]
     },
     "metadata": {
      "needs_background": "light"
     },
     "output_type": "display_data"
    }
   ],
   "source": [
    "plt.plot( 'month', 'mean', data=statsm, marker='s', color='black', markersize=4,     linewidth=1, linestyle='--')\n",
    "plt.plot( 'month', 'mean', data=statsm, marker='o', color='black',  markersize=4, linewidth=1,linestyle='-')\n",
    "plt.xlabel(\"Month\")\n",
    "plt.ylabel(\"Average Daily COVID CASES\")\n",
    "plt.show()"
   ]
  },
  {
   "cell_type": "markdown",
   "id": "ff01f42d",
   "metadata": {},
   "source": [
    "We have created a data frame using the confidence interval of the monthly COVID cases. We then created a graph displaying the data frame of the Average Daily COVID Cases."
   ]
  },
  {
   "cell_type": "markdown",
   "id": "2ea6e0fe",
   "metadata": {},
   "source": [
    "We will now compare between 2020 and 2021"
   ]
  },
  {
   "cell_type": "markdown",
   "id": "77ea0b96",
   "metadata": {},
   "source": [
    "To do this, I need to filter the data."
   ]
  },
  {
   "cell_type": "code",
   "execution_count": 179,
   "id": "f01ee218",
   "metadata": {},
   "outputs": [
    {
     "data": {
      "text/plain": [
       "'2020-02-24'"
      ]
     },
     "execution_count": 179,
     "metadata": {},
     "output_type": "execute_result"
    }
   ],
   "source": [
    "df['date'][0]"
   ]
  },
  {
   "cell_type": "code",
   "execution_count": 180,
   "id": "d91e1e15",
   "metadata": {},
   "outputs": [],
   "source": [
    "df['date'] = pd.to_datetime(df['date'],format='%Y-%m-%d')"
   ]
  },
  {
   "cell_type": "code",
   "execution_count": 181,
   "id": "02dc777d",
   "metadata": {},
   "outputs": [
    {
     "data": {
      "text/plain": [
       "Timestamp('2020-02-24 00:00:00')"
      ]
     },
     "execution_count": 181,
     "metadata": {},
     "output_type": "execute_result"
    }
   ],
   "source": [
    "df['date'][0]"
   ]
  },
  {
   "cell_type": "code",
   "execution_count": 182,
   "id": "ed1d7b78",
   "metadata": {},
   "outputs": [],
   "source": [
    "df['year'] = pd. DatetimeIndex(df['date']). year"
   ]
  },
  {
   "cell_type": "code",
   "execution_count": 183,
   "id": "7901b99b",
   "metadata": {},
   "outputs": [
    {
     "data": {
      "text/plain": [
       "2020"
      ]
     },
     "execution_count": 183,
     "metadata": {},
     "output_type": "execute_result"
    }
   ],
   "source": [
    "df['year'][0]"
   ]
  },
  {
   "cell_type": "code",
   "execution_count": 184,
   "id": "191d87bb",
   "metadata": {},
   "outputs": [],
   "source": [
    "statsdcases=df.groupby(['country','year','month']).agg({\"dcases\": [np.mean, np.std, np.size,get_ci_lb,get_ci_ub]})"
   ]
  },
  {
   "cell_type": "code",
   "execution_count": 185,
   "id": "5a4d79b4",
   "metadata": {},
   "outputs": [
    {
     "data": {
      "text/html": [
       "<div>\n",
       "<style scoped>\n",
       "    .dataframe tbody tr th:only-of-type {\n",
       "        vertical-align: middle;\n",
       "    }\n",
       "\n",
       "    .dataframe tbody tr th {\n",
       "        vertical-align: top;\n",
       "    }\n",
       "\n",
       "    .dataframe thead tr th {\n",
       "        text-align: left;\n",
       "    }\n",
       "\n",
       "    .dataframe thead tr:last-of-type th {\n",
       "        text-align: right;\n",
       "    }\n",
       "</style>\n",
       "<table border=\"1\" class=\"dataframe\">\n",
       "  <thead>\n",
       "    <tr>\n",
       "      <th></th>\n",
       "      <th></th>\n",
       "      <th></th>\n",
       "      <th colspan=\"5\" halign=\"left\">dcases</th>\n",
       "    </tr>\n",
       "    <tr>\n",
       "      <th></th>\n",
       "      <th></th>\n",
       "      <th></th>\n",
       "      <th>mean</th>\n",
       "      <th>std</th>\n",
       "      <th>size</th>\n",
       "      <th>get_ci_lb</th>\n",
       "      <th>get_ci_ub</th>\n",
       "    </tr>\n",
       "    <tr>\n",
       "      <th>country</th>\n",
       "      <th>year</th>\n",
       "      <th>month</th>\n",
       "      <th></th>\n",
       "      <th></th>\n",
       "      <th></th>\n",
       "      <th></th>\n",
       "      <th></th>\n",
       "    </tr>\n",
       "  </thead>\n",
       "  <tbody>\n",
       "    <tr>\n",
       "      <th rowspan=\"5\" valign=\"top\">Afghanistan</th>\n",
       "      <th rowspan=\"5\" valign=\"top\">2020</th>\n",
       "      <th>Jan</th>\n",
       "      <td>NaN</td>\n",
       "      <td>NaN</td>\n",
       "      <td>NaN</td>\n",
       "      <td>NaN</td>\n",
       "      <td>NaN</td>\n",
       "    </tr>\n",
       "    <tr>\n",
       "      <th>Feb</th>\n",
       "      <td>0.833333</td>\n",
       "      <td>2.041241</td>\n",
       "      <td>6.0</td>\n",
       "      <td>-1.308818</td>\n",
       "      <td>2.975485</td>\n",
       "    </tr>\n",
       "    <tr>\n",
       "      <th>Mar</th>\n",
       "      <td>5.258065</td>\n",
       "      <td>10.871883</td>\n",
       "      <td>31.0</td>\n",
       "      <td>1.270225</td>\n",
       "      <td>9.245904</td>\n",
       "    </tr>\n",
       "    <tr>\n",
       "      <th>Apr</th>\n",
       "      <td>55.366667</td>\n",
       "      <td>40.385627</td>\n",
       "      <td>30.0</td>\n",
       "      <td>40.286426</td>\n",
       "      <td>70.446908</td>\n",
       "    </tr>\n",
       "    <tr>\n",
       "      <th>May</th>\n",
       "      <td>430.741935</td>\n",
       "      <td>266.692078</td>\n",
       "      <td>31.0</td>\n",
       "      <td>332.918491</td>\n",
       "      <td>528.565379</td>\n",
       "    </tr>\n",
       "    <tr>\n",
       "      <th>...</th>\n",
       "      <th>...</th>\n",
       "      <th>...</th>\n",
       "      <td>...</td>\n",
       "      <td>...</td>\n",
       "      <td>...</td>\n",
       "      <td>...</td>\n",
       "      <td>...</td>\n",
       "    </tr>\n",
       "    <tr>\n",
       "      <th rowspan=\"5\" valign=\"top\">Zimbabwe</th>\n",
       "      <th rowspan=\"5\" valign=\"top\">2021</th>\n",
       "      <th>Aug</th>\n",
       "      <td>513.322581</td>\n",
       "      <td>386.841948</td>\n",
       "      <td>31.0</td>\n",
       "      <td>371.427809</td>\n",
       "      <td>655.217353</td>\n",
       "    </tr>\n",
       "    <tr>\n",
       "      <th>Sep</th>\n",
       "      <td>201.566667</td>\n",
       "      <td>135.119789</td>\n",
       "      <td>30.0</td>\n",
       "      <td>151.112108</td>\n",
       "      <td>252.021225</td>\n",
       "    </tr>\n",
       "    <tr>\n",
       "      <th>Oct</th>\n",
       "      <td>69.580645</td>\n",
       "      <td>58.035492</td>\n",
       "      <td>31.0</td>\n",
       "      <td>48.293055</td>\n",
       "      <td>90.868235</td>\n",
       "    </tr>\n",
       "    <tr>\n",
       "      <th>Nov</th>\n",
       "      <td>54.933333</td>\n",
       "      <td>82.622087</td>\n",
       "      <td>30.0</td>\n",
       "      <td>24.081739</td>\n",
       "      <td>85.784928</td>\n",
       "    </tr>\n",
       "    <tr>\n",
       "      <th>Dec</th>\n",
       "      <td>2536.548387</td>\n",
       "      <td>2572.199964</td>\n",
       "      <td>31.0</td>\n",
       "      <td>1593.057823</td>\n",
       "      <td>3480.038951</td>\n",
       "    </tr>\n",
       "  </tbody>\n",
       "</table>\n",
       "<p>4488 rows × 5 columns</p>\n",
       "</div>"
      ],
      "text/plain": [
       "                             dcases                                  \\\n",
       "                               mean          std  size    get_ci_lb   \n",
       "country     year month                                                \n",
       "Afghanistan 2020 Jan            NaN          NaN   NaN          NaN   \n",
       "                 Feb       0.833333     2.041241   6.0    -1.308818   \n",
       "                 Mar       5.258065    10.871883  31.0     1.270225   \n",
       "                 Apr      55.366667    40.385627  30.0    40.286426   \n",
       "                 May     430.741935   266.692078  31.0   332.918491   \n",
       "...                             ...          ...   ...          ...   \n",
       "Zimbabwe    2021 Aug     513.322581   386.841948  31.0   371.427809   \n",
       "                 Sep     201.566667   135.119789  30.0   151.112108   \n",
       "                 Oct      69.580645    58.035492  31.0    48.293055   \n",
       "                 Nov      54.933333    82.622087  30.0    24.081739   \n",
       "                 Dec    2536.548387  2572.199964  31.0  1593.057823   \n",
       "\n",
       "                                     \n",
       "                          get_ci_ub  \n",
       "country     year month               \n",
       "Afghanistan 2020 Jan            NaN  \n",
       "                 Feb       2.975485  \n",
       "                 Mar       9.245904  \n",
       "                 Apr      70.446908  \n",
       "                 May     528.565379  \n",
       "...                             ...  \n",
       "Zimbabwe    2021 Aug     655.217353  \n",
       "                 Sep     252.021225  \n",
       "                 Oct      90.868235  \n",
       "                 Nov      85.784928  \n",
       "                 Dec    3480.038951  \n",
       "\n",
       "[4488 rows x 5 columns]"
      ]
     },
     "execution_count": 185,
     "metadata": {},
     "output_type": "execute_result"
    }
   ],
   "source": [
    "statsdcases"
   ]
  },
  {
   "cell_type": "code",
   "execution_count": 186,
   "id": "bef0bf94",
   "metadata": {},
   "outputs": [],
   "source": [
    "statsdcases=statsdcases.reset_index()"
   ]
  },
  {
   "cell_type": "code",
   "execution_count": 187,
   "id": "f62bd89d",
   "metadata": {},
   "outputs": [
    {
     "data": {
      "text/html": [
       "<div>\n",
       "<style scoped>\n",
       "    .dataframe tbody tr th:only-of-type {\n",
       "        vertical-align: middle;\n",
       "    }\n",
       "\n",
       "    .dataframe tbody tr th {\n",
       "        vertical-align: top;\n",
       "    }\n",
       "\n",
       "    .dataframe thead tr th {\n",
       "        text-align: left;\n",
       "    }\n",
       "</style>\n",
       "<table border=\"1\" class=\"dataframe\">\n",
       "  <thead>\n",
       "    <tr>\n",
       "      <th></th>\n",
       "      <th>country</th>\n",
       "      <th>year</th>\n",
       "      <th>month</th>\n",
       "      <th colspan=\"5\" halign=\"left\">dcases</th>\n",
       "    </tr>\n",
       "    <tr>\n",
       "      <th></th>\n",
       "      <th></th>\n",
       "      <th></th>\n",
       "      <th></th>\n",
       "      <th>mean</th>\n",
       "      <th>std</th>\n",
       "      <th>size</th>\n",
       "      <th>get_ci_lb</th>\n",
       "      <th>get_ci_ub</th>\n",
       "    </tr>\n",
       "  </thead>\n",
       "  <tbody>\n",
       "    <tr>\n",
       "      <th>0</th>\n",
       "      <td>Afghanistan</td>\n",
       "      <td>2020</td>\n",
       "      <td>Jan</td>\n",
       "      <td>NaN</td>\n",
       "      <td>NaN</td>\n",
       "      <td>NaN</td>\n",
       "      <td>NaN</td>\n",
       "      <td>NaN</td>\n",
       "    </tr>\n",
       "    <tr>\n",
       "      <th>1</th>\n",
       "      <td>Afghanistan</td>\n",
       "      <td>2020</td>\n",
       "      <td>Feb</td>\n",
       "      <td>0.833333</td>\n",
       "      <td>2.041241</td>\n",
       "      <td>6.0</td>\n",
       "      <td>-1.308818</td>\n",
       "      <td>2.975485</td>\n",
       "    </tr>\n",
       "    <tr>\n",
       "      <th>2</th>\n",
       "      <td>Afghanistan</td>\n",
       "      <td>2020</td>\n",
       "      <td>Mar</td>\n",
       "      <td>5.258065</td>\n",
       "      <td>10.871883</td>\n",
       "      <td>31.0</td>\n",
       "      <td>1.270225</td>\n",
       "      <td>9.245904</td>\n",
       "    </tr>\n",
       "    <tr>\n",
       "      <th>3</th>\n",
       "      <td>Afghanistan</td>\n",
       "      <td>2020</td>\n",
       "      <td>Apr</td>\n",
       "      <td>55.366667</td>\n",
       "      <td>40.385627</td>\n",
       "      <td>30.0</td>\n",
       "      <td>40.286426</td>\n",
       "      <td>70.446908</td>\n",
       "    </tr>\n",
       "    <tr>\n",
       "      <th>4</th>\n",
       "      <td>Afghanistan</td>\n",
       "      <td>2020</td>\n",
       "      <td>May</td>\n",
       "      <td>430.741935</td>\n",
       "      <td>266.692078</td>\n",
       "      <td>31.0</td>\n",
       "      <td>332.918491</td>\n",
       "      <td>528.565379</td>\n",
       "    </tr>\n",
       "    <tr>\n",
       "      <th>...</th>\n",
       "      <td>...</td>\n",
       "      <td>...</td>\n",
       "      <td>...</td>\n",
       "      <td>...</td>\n",
       "      <td>...</td>\n",
       "      <td>...</td>\n",
       "      <td>...</td>\n",
       "      <td>...</td>\n",
       "    </tr>\n",
       "    <tr>\n",
       "      <th>4483</th>\n",
       "      <td>Zimbabwe</td>\n",
       "      <td>2021</td>\n",
       "      <td>Aug</td>\n",
       "      <td>513.322581</td>\n",
       "      <td>386.841948</td>\n",
       "      <td>31.0</td>\n",
       "      <td>371.427809</td>\n",
       "      <td>655.217353</td>\n",
       "    </tr>\n",
       "    <tr>\n",
       "      <th>4484</th>\n",
       "      <td>Zimbabwe</td>\n",
       "      <td>2021</td>\n",
       "      <td>Sep</td>\n",
       "      <td>201.566667</td>\n",
       "      <td>135.119789</td>\n",
       "      <td>30.0</td>\n",
       "      <td>151.112108</td>\n",
       "      <td>252.021225</td>\n",
       "    </tr>\n",
       "    <tr>\n",
       "      <th>4485</th>\n",
       "      <td>Zimbabwe</td>\n",
       "      <td>2021</td>\n",
       "      <td>Oct</td>\n",
       "      <td>69.580645</td>\n",
       "      <td>58.035492</td>\n",
       "      <td>31.0</td>\n",
       "      <td>48.293055</td>\n",
       "      <td>90.868235</td>\n",
       "    </tr>\n",
       "    <tr>\n",
       "      <th>4486</th>\n",
       "      <td>Zimbabwe</td>\n",
       "      <td>2021</td>\n",
       "      <td>Nov</td>\n",
       "      <td>54.933333</td>\n",
       "      <td>82.622087</td>\n",
       "      <td>30.0</td>\n",
       "      <td>24.081739</td>\n",
       "      <td>85.784928</td>\n",
       "    </tr>\n",
       "    <tr>\n",
       "      <th>4487</th>\n",
       "      <td>Zimbabwe</td>\n",
       "      <td>2021</td>\n",
       "      <td>Dec</td>\n",
       "      <td>2536.548387</td>\n",
       "      <td>2572.199964</td>\n",
       "      <td>31.0</td>\n",
       "      <td>1593.057823</td>\n",
       "      <td>3480.038951</td>\n",
       "    </tr>\n",
       "  </tbody>\n",
       "</table>\n",
       "<p>4488 rows × 8 columns</p>\n",
       "</div>"
      ],
      "text/plain": [
       "          country  year month       dcases                                  \\\n",
       "                                      mean          std  size    get_ci_lb   \n",
       "0     Afghanistan  2020   Jan          NaN          NaN   NaN          NaN   \n",
       "1     Afghanistan  2020   Feb     0.833333     2.041241   6.0    -1.308818   \n",
       "2     Afghanistan  2020   Mar     5.258065    10.871883  31.0     1.270225   \n",
       "3     Afghanistan  2020   Apr    55.366667    40.385627  30.0    40.286426   \n",
       "4     Afghanistan  2020   May   430.741935   266.692078  31.0   332.918491   \n",
       "...           ...   ...   ...          ...          ...   ...          ...   \n",
       "4483     Zimbabwe  2021   Aug   513.322581   386.841948  31.0   371.427809   \n",
       "4484     Zimbabwe  2021   Sep   201.566667   135.119789  30.0   151.112108   \n",
       "4485     Zimbabwe  2021   Oct    69.580645    58.035492  31.0    48.293055   \n",
       "4486     Zimbabwe  2021   Nov    54.933333    82.622087  30.0    24.081739   \n",
       "4487     Zimbabwe  2021   Dec  2536.548387  2572.199964  31.0  1593.057823   \n",
       "\n",
       "                   \n",
       "        get_ci_ub  \n",
       "0             NaN  \n",
       "1        2.975485  \n",
       "2        9.245904  \n",
       "3       70.446908  \n",
       "4      528.565379  \n",
       "...           ...  \n",
       "4483   655.217353  \n",
       "4484   252.021225  \n",
       "4485    90.868235  \n",
       "4486    85.784928  \n",
       "4487  3480.038951  \n",
       "\n",
       "[4488 rows x 8 columns]"
      ]
     },
     "execution_count": 187,
     "metadata": {},
     "output_type": "execute_result"
    }
   ],
   "source": [
    "statsdcases"
   ]
  },
  {
   "cell_type": "markdown",
   "id": "72b143ba",
   "metadata": {},
   "source": [
    "We have now created a data frame of the daily number of cases by year and provided their statistics as columns."
   ]
  },
  {
   "cell_type": "markdown",
   "id": "abc09fc4",
   "metadata": {},
   "source": [
    "We will now filter the United States data on 2021."
   ]
  },
  {
   "cell_type": "code",
   "execution_count": 188,
   "id": "a633e0e9",
   "metadata": {},
   "outputs": [],
   "source": [
    "statsUS=statsdcases[(statsdcases['country']=='United States') & (statsdcases['year']==2021)]"
   ]
  },
  {
   "cell_type": "code",
   "execution_count": 189,
   "id": "050cd09f",
   "metadata": {},
   "outputs": [
    {
     "data": {
      "text/html": [
       "<div>\n",
       "<style scoped>\n",
       "    .dataframe tbody tr th:only-of-type {\n",
       "        vertical-align: middle;\n",
       "    }\n",
       "\n",
       "    .dataframe tbody tr th {\n",
       "        vertical-align: top;\n",
       "    }\n",
       "\n",
       "    .dataframe thead tr th {\n",
       "        text-align: left;\n",
       "    }\n",
       "</style>\n",
       "<table border=\"1\" class=\"dataframe\">\n",
       "  <thead>\n",
       "    <tr>\n",
       "      <th></th>\n",
       "      <th>country</th>\n",
       "      <th>year</th>\n",
       "      <th>month</th>\n",
       "      <th colspan=\"5\" halign=\"left\">dcases</th>\n",
       "    </tr>\n",
       "    <tr>\n",
       "      <th></th>\n",
       "      <th></th>\n",
       "      <th></th>\n",
       "      <th></th>\n",
       "      <th>mean</th>\n",
       "      <th>std</th>\n",
       "      <th>size</th>\n",
       "      <th>get_ci_lb</th>\n",
       "      <th>get_ci_ub</th>\n",
       "    </tr>\n",
       "  </thead>\n",
       "  <tbody>\n",
       "    <tr>\n",
       "      <th>4284</th>\n",
       "      <td>United States</td>\n",
       "      <td>2021</td>\n",
       "      <td>Jan</td>\n",
       "      <td>198456.967742</td>\n",
       "      <td>48963.656236</td>\n",
       "      <td>31.0</td>\n",
       "      <td>180496.953637</td>\n",
       "      <td>216416.981847</td>\n",
       "    </tr>\n",
       "    <tr>\n",
       "      <th>4285</th>\n",
       "      <td>United States</td>\n",
       "      <td>2021</td>\n",
       "      <td>Feb</td>\n",
       "      <td>86034.071429</td>\n",
       "      <td>24096.956170</td>\n",
       "      <td>28.0</td>\n",
       "      <td>76690.247272</td>\n",
       "      <td>95377.895585</td>\n",
       "    </tr>\n",
       "    <tr>\n",
       "      <th>4286</th>\n",
       "      <td>United States</td>\n",
       "      <td>2021</td>\n",
       "      <td>Mar</td>\n",
       "      <td>58528.870968</td>\n",
       "      <td>11091.423385</td>\n",
       "      <td>31.0</td>\n",
       "      <td>54460.504025</td>\n",
       "      <td>62597.237911</td>\n",
       "    </tr>\n",
       "    <tr>\n",
       "      <th>4287</th>\n",
       "      <td>United States</td>\n",
       "      <td>2021</td>\n",
       "      <td>Apr</td>\n",
       "      <td>62969.866667</td>\n",
       "      <td>13326.331302</td>\n",
       "      <td>30.0</td>\n",
       "      <td>57993.732778</td>\n",
       "      <td>67946.000555</td>\n",
       "    </tr>\n",
       "    <tr>\n",
       "      <th>4288</th>\n",
       "      <td>United States</td>\n",
       "      <td>2021</td>\n",
       "      <td>May</td>\n",
       "      <td>29748.451613</td>\n",
       "      <td>11654.944186</td>\n",
       "      <td>31.0</td>\n",
       "      <td>25473.383571</td>\n",
       "      <td>34023.519655</td>\n",
       "    </tr>\n",
       "    <tr>\n",
       "      <th>4289</th>\n",
       "      <td>United States</td>\n",
       "      <td>2021</td>\n",
       "      <td>Jun</td>\n",
       "      <td>13276.666667</td>\n",
       "      <td>5477.556971</td>\n",
       "      <td>30.0</td>\n",
       "      <td>11231.313279</td>\n",
       "      <td>15322.020054</td>\n",
       "    </tr>\n",
       "    <tr>\n",
       "      <th>4290</th>\n",
       "      <td>United States</td>\n",
       "      <td>2021</td>\n",
       "      <td>Jul</td>\n",
       "      <td>42530.096774</td>\n",
       "      <td>38371.307282</td>\n",
       "      <td>31.0</td>\n",
       "      <td>28455.387633</td>\n",
       "      <td>56604.805916</td>\n",
       "    </tr>\n",
       "    <tr>\n",
       "      <th>4291</th>\n",
       "      <td>United States</td>\n",
       "      <td>2021</td>\n",
       "      <td>Aug</td>\n",
       "      <td>138009.096774</td>\n",
       "      <td>68559.671456</td>\n",
       "      <td>31.0</td>\n",
       "      <td>112861.206256</td>\n",
       "      <td>163156.987292</td>\n",
       "    </tr>\n",
       "    <tr>\n",
       "      <th>4292</th>\n",
       "      <td>United States</td>\n",
       "      <td>2021</td>\n",
       "      <td>Sep</td>\n",
       "      <td>138317.533333</td>\n",
       "      <td>62395.681666</td>\n",
       "      <td>30.0</td>\n",
       "      <td>115018.602892</td>\n",
       "      <td>161616.463775</td>\n",
       "    </tr>\n",
       "    <tr>\n",
       "      <th>4293</th>\n",
       "      <td>United States</td>\n",
       "      <td>2021</td>\n",
       "      <td>Oct</td>\n",
       "      <td>80985.838710</td>\n",
       "      <td>36717.953309</td>\n",
       "      <td>31.0</td>\n",
       "      <td>67517.584702</td>\n",
       "      <td>94454.092718</td>\n",
       "    </tr>\n",
       "    <tr>\n",
       "      <th>4294</th>\n",
       "      <td>United States</td>\n",
       "      <td>2021</td>\n",
       "      <td>Nov</td>\n",
       "      <td>84910.333333</td>\n",
       "      <td>41307.383674</td>\n",
       "      <td>30.0</td>\n",
       "      <td>69485.902776</td>\n",
       "      <td>100334.763891</td>\n",
       "    </tr>\n",
       "    <tr>\n",
       "      <th>4295</th>\n",
       "      <td>United States</td>\n",
       "      <td>2021</td>\n",
       "      <td>Dec</td>\n",
       "      <td>200893.903226</td>\n",
       "      <td>144836.878947</td>\n",
       "      <td>31.0</td>\n",
       "      <td>147767.307118</td>\n",
       "      <td>254020.499334</td>\n",
       "    </tr>\n",
       "  </tbody>\n",
       "</table>\n",
       "</div>"
      ],
      "text/plain": [
       "            country  year month         dcases                       \\\n",
       "                                          mean            std  size   \n",
       "4284  United States  2021   Jan  198456.967742   48963.656236  31.0   \n",
       "4285  United States  2021   Feb   86034.071429   24096.956170  28.0   \n",
       "4286  United States  2021   Mar   58528.870968   11091.423385  31.0   \n",
       "4287  United States  2021   Apr   62969.866667   13326.331302  30.0   \n",
       "4288  United States  2021   May   29748.451613   11654.944186  31.0   \n",
       "4289  United States  2021   Jun   13276.666667    5477.556971  30.0   \n",
       "4290  United States  2021   Jul   42530.096774   38371.307282  31.0   \n",
       "4291  United States  2021   Aug  138009.096774   68559.671456  31.0   \n",
       "4292  United States  2021   Sep  138317.533333   62395.681666  30.0   \n",
       "4293  United States  2021   Oct   80985.838710   36717.953309  31.0   \n",
       "4294  United States  2021   Nov   84910.333333   41307.383674  30.0   \n",
       "4295  United States  2021   Dec  200893.903226  144836.878947  31.0   \n",
       "\n",
       "                                    \n",
       "          get_ci_lb      get_ci_ub  \n",
       "4284  180496.953637  216416.981847  \n",
       "4285   76690.247272   95377.895585  \n",
       "4286   54460.504025   62597.237911  \n",
       "4287   57993.732778   67946.000555  \n",
       "4288   25473.383571   34023.519655  \n",
       "4289   11231.313279   15322.020054  \n",
       "4290   28455.387633   56604.805916  \n",
       "4291  112861.206256  163156.987292  \n",
       "4292  115018.602892  161616.463775  \n",
       "4293   67517.584702   94454.092718  \n",
       "4294   69485.902776  100334.763891  \n",
       "4295  147767.307118  254020.499334  "
      ]
     },
     "execution_count": 189,
     "metadata": {},
     "output_type": "execute_result"
    }
   ],
   "source": [
    "statsUS"
   ]
  },
  {
   "cell_type": "code",
   "execution_count": 190,
   "id": "3b89541c",
   "metadata": {},
   "outputs": [
    {
     "data": {
      "text/plain": [
       "MultiIndex([('country',          ''),\n",
       "            (   'year',          ''),\n",
       "            (  'month',          ''),\n",
       "            ( 'dcases',      'mean'),\n",
       "            ( 'dcases',       'std'),\n",
       "            ( 'dcases',      'size'),\n",
       "            ( 'dcases', 'get_ci_lb'),\n",
       "            ( 'dcases', 'get_ci_ub')],\n",
       "           )"
      ]
     },
     "execution_count": 190,
     "metadata": {},
     "output_type": "execute_result"
    }
   ],
   "source": [
    "statsUS.columns"
   ]
  },
  {
   "cell_type": "code",
   "execution_count": 191,
   "id": "36c132b5",
   "metadata": {},
   "outputs": [],
   "source": [
    "statsUS.columns=['country','year','month','mean','std','size','lb','ub']"
   ]
  },
  {
   "cell_type": "code",
   "execution_count": 192,
   "id": "77a27454",
   "metadata": {},
   "outputs": [
    {
     "data": {
      "image/png": "[encoded data removed]",
      "text/plain": [
       "<Figure size 432x288 with 1 Axes>"
      ]
     },
     "metadata": {
      "needs_background": "light"
     },
     "output_type": "display_data"
    }
   ],
   "source": [
    "plt.plot( 'month', 'mean', data=statsUS, marker='s', color='black', markersize=4,     linewidth=1, linestyle='--')\n",
    "plt.plot( 'month', 'mean', data=statsUS, marker='o', color='black',  markersize=4, linewidth=1,linestyle='-')\n",
    "plt.xlabel(\"Month\")\n",
    "plt.ylabel(\"Average Daily COVID CASES\")\n",
    "plt.title(\"United States\")\n",
    "plt.show()"
   ]
  },
  {
   "cell_type": "markdown",
   "id": "768a5655",
   "metadata": {},
   "source": [
    "This is a graph for the Average Daily Cases for the country United States for the year 2021."
   ]
  },
  {
   "cell_type": "markdown",
   "id": "d111b2ba",
   "metadata": {},
   "source": [
    "Now we can compare 2020 to 2021"
   ]
  },
  {
   "cell_type": "code",
   "execution_count": 193,
   "id": "6d5c2d68",
   "metadata": {},
   "outputs": [],
   "source": [
    "statsUS21=statsdcases[(statsdcases['country']=='United States') & (statsdcases['year']==2021)]"
   ]
  },
  {
   "cell_type": "code",
   "execution_count": 194,
   "id": "5ec89c13",
   "metadata": {},
   "outputs": [
    {
     "data": {
      "text/html": [
       "<div>\n",
       "<style scoped>\n",
       "    .dataframe tbody tr th:only-of-type {\n",
       "        vertical-align: middle;\n",
       "    }\n",
       "\n",
       "    .dataframe tbody tr th {\n",
       "        vertical-align: top;\n",
       "    }\n",
       "\n",
       "    .dataframe thead tr th {\n",
       "        text-align: left;\n",
       "    }\n",
       "</style>\n",
       "<table border=\"1\" class=\"dataframe\">\n",
       "  <thead>\n",
       "    <tr>\n",
       "      <th></th>\n",
       "      <th>country</th>\n",
       "      <th>year</th>\n",
       "      <th>month</th>\n",
       "      <th colspan=\"5\" halign=\"left\">dcases</th>\n",
       "    </tr>\n",
       "    <tr>\n",
       "      <th></th>\n",
       "      <th></th>\n",
       "      <th></th>\n",
       "      <th></th>\n",
       "      <th>mean</th>\n",
       "      <th>std</th>\n",
       "      <th>size</th>\n",
       "      <th>get_ci_lb</th>\n",
       "      <th>get_ci_ub</th>\n",
       "    </tr>\n",
       "  </thead>\n",
       "  <tbody>\n",
       "    <tr>\n",
       "      <th>4284</th>\n",
       "      <td>United States</td>\n",
       "      <td>2021</td>\n",
       "      <td>Jan</td>\n",
       "      <td>198456.967742</td>\n",
       "      <td>48963.656236</td>\n",
       "      <td>31.0</td>\n",
       "      <td>180496.953637</td>\n",
       "      <td>216416.981847</td>\n",
       "    </tr>\n",
       "    <tr>\n",
       "      <th>4285</th>\n",
       "      <td>United States</td>\n",
       "      <td>2021</td>\n",
       "      <td>Feb</td>\n",
       "      <td>86034.071429</td>\n",
       "      <td>24096.956170</td>\n",
       "      <td>28.0</td>\n",
       "      <td>76690.247272</td>\n",
       "      <td>95377.895585</td>\n",
       "    </tr>\n",
       "    <tr>\n",
       "      <th>4286</th>\n",
       "      <td>United States</td>\n",
       "      <td>2021</td>\n",
       "      <td>Mar</td>\n",
       "      <td>58528.870968</td>\n",
       "      <td>11091.423385</td>\n",
       "      <td>31.0</td>\n",
       "      <td>54460.504025</td>\n",
       "      <td>62597.237911</td>\n",
       "    </tr>\n",
       "    <tr>\n",
       "      <th>4287</th>\n",
       "      <td>United States</td>\n",
       "      <td>2021</td>\n",
       "      <td>Apr</td>\n",
       "      <td>62969.866667</td>\n",
       "      <td>13326.331302</td>\n",
       "      <td>30.0</td>\n",
       "      <td>57993.732778</td>\n",
       "      <td>67946.000555</td>\n",
       "    </tr>\n",
       "    <tr>\n",
       "      <th>4288</th>\n",
       "      <td>United States</td>\n",
       "      <td>2021</td>\n",
       "      <td>May</td>\n",
       "      <td>29748.451613</td>\n",
       "      <td>11654.944186</td>\n",
       "      <td>31.0</td>\n",
       "      <td>25473.383571</td>\n",
       "      <td>34023.519655</td>\n",
       "    </tr>\n",
       "    <tr>\n",
       "      <th>4289</th>\n",
       "      <td>United States</td>\n",
       "      <td>2021</td>\n",
       "      <td>Jun</td>\n",
       "      <td>13276.666667</td>\n",
       "      <td>5477.556971</td>\n",
       "      <td>30.0</td>\n",
       "      <td>11231.313279</td>\n",
       "      <td>15322.020054</td>\n",
       "    </tr>\n",
       "    <tr>\n",
       "      <th>4290</th>\n",
       "      <td>United States</td>\n",
       "      <td>2021</td>\n",
       "      <td>Jul</td>\n",
       "      <td>42530.096774</td>\n",
       "      <td>38371.307282</td>\n",
       "      <td>31.0</td>\n",
       "      <td>28455.387633</td>\n",
       "      <td>56604.805916</td>\n",
       "    </tr>\n",
       "    <tr>\n",
       "      <th>4291</th>\n",
       "      <td>United States</td>\n",
       "      <td>2021</td>\n",
       "      <td>Aug</td>\n",
       "      <td>138009.096774</td>\n",
       "      <td>68559.671456</td>\n",
       "      <td>31.0</td>\n",
       "      <td>112861.206256</td>\n",
       "      <td>163156.987292</td>\n",
       "    </tr>\n",
       "    <tr>\n",
       "      <th>4292</th>\n",
       "      <td>United States</td>\n",
       "      <td>2021</td>\n",
       "      <td>Sep</td>\n",
       "      <td>138317.533333</td>\n",
       "      <td>62395.681666</td>\n",
       "      <td>30.0</td>\n",
       "      <td>115018.602892</td>\n",
       "      <td>161616.463775</td>\n",
       "    </tr>\n",
       "    <tr>\n",
       "      <th>4293</th>\n",
       "      <td>United States</td>\n",
       "      <td>2021</td>\n",
       "      <td>Oct</td>\n",
       "      <td>80985.838710</td>\n",
       "      <td>36717.953309</td>\n",
       "      <td>31.0</td>\n",
       "      <td>67517.584702</td>\n",
       "      <td>94454.092718</td>\n",
       "    </tr>\n",
       "    <tr>\n",
       "      <th>4294</th>\n",
       "      <td>United States</td>\n",
       "      <td>2021</td>\n",
       "      <td>Nov</td>\n",
       "      <td>84910.333333</td>\n",
       "      <td>41307.383674</td>\n",
       "      <td>30.0</td>\n",
       "      <td>69485.902776</td>\n",
       "      <td>100334.763891</td>\n",
       "    </tr>\n",
       "    <tr>\n",
       "      <th>4295</th>\n",
       "      <td>United States</td>\n",
       "      <td>2021</td>\n",
       "      <td>Dec</td>\n",
       "      <td>200893.903226</td>\n",
       "      <td>144836.878947</td>\n",
       "      <td>31.0</td>\n",
       "      <td>147767.307118</td>\n",
       "      <td>254020.499334</td>\n",
       "    </tr>\n",
       "  </tbody>\n",
       "</table>\n",
       "</div>"
      ],
      "text/plain": [
       "            country  year month         dcases                       \\\n",
       "                                          mean            std  size   \n",
       "4284  United States  2021   Jan  198456.967742   48963.656236  31.0   \n",
       "4285  United States  2021   Feb   86034.071429   24096.956170  28.0   \n",
       "4286  United States  2021   Mar   58528.870968   11091.423385  31.0   \n",
       "4287  United States  2021   Apr   62969.866667   13326.331302  30.0   \n",
       "4288  United States  2021   May   29748.451613   11654.944186  31.0   \n",
       "4289  United States  2021   Jun   13276.666667    5477.556971  30.0   \n",
       "4290  United States  2021   Jul   42530.096774   38371.307282  31.0   \n",
       "4291  United States  2021   Aug  138009.096774   68559.671456  31.0   \n",
       "4292  United States  2021   Sep  138317.533333   62395.681666  30.0   \n",
       "4293  United States  2021   Oct   80985.838710   36717.953309  31.0   \n",
       "4294  United States  2021   Nov   84910.333333   41307.383674  30.0   \n",
       "4295  United States  2021   Dec  200893.903226  144836.878947  31.0   \n",
       "\n",
       "                                    \n",
       "          get_ci_lb      get_ci_ub  \n",
       "4284  180496.953637  216416.981847  \n",
       "4285   76690.247272   95377.895585  \n",
       "4286   54460.504025   62597.237911  \n",
       "4287   57993.732778   67946.000555  \n",
       "4288   25473.383571   34023.519655  \n",
       "4289   11231.313279   15322.020054  \n",
       "4290   28455.387633   56604.805916  \n",
       "4291  112861.206256  163156.987292  \n",
       "4292  115018.602892  161616.463775  \n",
       "4293   67517.584702   94454.092718  \n",
       "4294   69485.902776  100334.763891  \n",
       "4295  147767.307118  254020.499334  "
      ]
     },
     "execution_count": 194,
     "metadata": {},
     "output_type": "execute_result"
    }
   ],
   "source": [
    "statsUS21"
   ]
  },
  {
   "cell_type": "code",
   "execution_count": 195,
   "id": "c20ac51b",
   "metadata": {},
   "outputs": [],
   "source": [
    "statsUS20=statsdcases[(statsdcases['country']=='United States') & (statsdcases['year']==2020)]"
   ]
  },
  {
   "cell_type": "code",
   "execution_count": 196,
   "id": "caab92d3",
   "metadata": {},
   "outputs": [
    {
     "data": {
      "text/html": [
       "<div>\n",
       "<style scoped>\n",
       "    .dataframe tbody tr th:only-of-type {\n",
       "        vertical-align: middle;\n",
       "    }\n",
       "\n",
       "    .dataframe tbody tr th {\n",
       "        vertical-align: top;\n",
       "    }\n",
       "\n",
       "    .dataframe thead tr th {\n",
       "        text-align: left;\n",
       "    }\n",
       "</style>\n",
       "<table border=\"1\" class=\"dataframe\">\n",
       "  <thead>\n",
       "    <tr>\n",
       "      <th></th>\n",
       "      <th>country</th>\n",
       "      <th>year</th>\n",
       "      <th>month</th>\n",
       "      <th colspan=\"5\" halign=\"left\">dcases</th>\n",
       "    </tr>\n",
       "    <tr>\n",
       "      <th></th>\n",
       "      <th></th>\n",
       "      <th></th>\n",
       "      <th></th>\n",
       "      <th>mean</th>\n",
       "      <th>std</th>\n",
       "      <th>size</th>\n",
       "      <th>get_ci_lb</th>\n",
       "      <th>get_ci_ub</th>\n",
       "    </tr>\n",
       "  </thead>\n",
       "  <tbody>\n",
       "    <tr>\n",
       "      <th>4272</th>\n",
       "      <td>United States</td>\n",
       "      <td>2020</td>\n",
       "      <td>Jan</td>\n",
       "      <td>0.800000</td>\n",
       "      <td>1.032796</td>\n",
       "      <td>10.0</td>\n",
       "      <td>0.061183</td>\n",
       "      <td>1.538817</td>\n",
       "    </tr>\n",
       "    <tr>\n",
       "      <th>4273</th>\n",
       "      <td>United States</td>\n",
       "      <td>2020</td>\n",
       "      <td>Feb</td>\n",
       "      <td>0.586207</td>\n",
       "      <td>1.592779</td>\n",
       "      <td>29.0</td>\n",
       "      <td>-0.019654</td>\n",
       "      <td>1.192068</td>\n",
       "    </tr>\n",
       "    <tr>\n",
       "      <th>4274</th>\n",
       "      <td>United States</td>\n",
       "      <td>2020</td>\n",
       "      <td>Mar</td>\n",
       "      <td>6195.290323</td>\n",
       "      <td>8136.094990</td>\n",
       "      <td>31.0</td>\n",
       "      <td>3210.946587</td>\n",
       "      <td>9179.634058</td>\n",
       "    </tr>\n",
       "    <tr>\n",
       "      <th>4275</th>\n",
       "      <td>United States</td>\n",
       "      <td>2020</td>\n",
       "      <td>Apr</td>\n",
       "      <td>29444.100000</td>\n",
       "      <td>2951.205287</td>\n",
       "      <td>30.0</td>\n",
       "      <td>28342.101835</td>\n",
       "      <td>30546.098165</td>\n",
       "    </tr>\n",
       "    <tr>\n",
       "      <th>4276</th>\n",
       "      <td>United States</td>\n",
       "      <td>2020</td>\n",
       "      <td>May</td>\n",
       "      <td>22969.967742</td>\n",
       "      <td>3675.815070</td>\n",
       "      <td>31.0</td>\n",
       "      <td>21621.667889</td>\n",
       "      <td>24318.267595</td>\n",
       "    </tr>\n",
       "    <tr>\n",
       "      <th>4277</th>\n",
       "      <td>United States</td>\n",
       "      <td>2020</td>\n",
       "      <td>Jun</td>\n",
       "      <td>28578.800000</td>\n",
       "      <td>9530.864738</td>\n",
       "      <td>30.0</td>\n",
       "      <td>25019.916618</td>\n",
       "      <td>32137.683382</td>\n",
       "    </tr>\n",
       "    <tr>\n",
       "      <th>4278</th>\n",
       "      <td>United States</td>\n",
       "      <td>2020</td>\n",
       "      <td>Jul</td>\n",
       "      <td>61294.677419</td>\n",
       "      <td>7287.514718</td>\n",
       "      <td>31.0</td>\n",
       "      <td>58621.595440</td>\n",
       "      <td>63967.759399</td>\n",
       "    </tr>\n",
       "    <tr>\n",
       "      <th>4279</th>\n",
       "      <td>United States</td>\n",
       "      <td>2020</td>\n",
       "      <td>Aug</td>\n",
       "      <td>48365.354839</td>\n",
       "      <td>9820.975222</td>\n",
       "      <td>31.0</td>\n",
       "      <td>44762.992044</td>\n",
       "      <td>51967.717633</td>\n",
       "    </tr>\n",
       "    <tr>\n",
       "      <th>4280</th>\n",
       "      <td>United States</td>\n",
       "      <td>2020</td>\n",
       "      <td>Sep</td>\n",
       "      <td>39903.100000</td>\n",
       "      <td>6415.896956</td>\n",
       "      <td>30.0</td>\n",
       "      <td>37507.364704</td>\n",
       "      <td>42298.835296</td>\n",
       "    </tr>\n",
       "    <tr>\n",
       "      <th>4281</th>\n",
       "      <td>United States</td>\n",
       "      <td>2020</td>\n",
       "      <td>Oct</td>\n",
       "      <td>61870.935484</td>\n",
       "      <td>16595.228308</td>\n",
       "      <td>31.0</td>\n",
       "      <td>55783.756596</td>\n",
       "      <td>67958.114371</td>\n",
       "    </tr>\n",
       "    <tr>\n",
       "      <th>4282</th>\n",
       "      <td>United States</td>\n",
       "      <td>2020</td>\n",
       "      <td>Nov</td>\n",
       "      <td>149008.633333</td>\n",
       "      <td>33377.003387</td>\n",
       "      <td>30.0</td>\n",
       "      <td>136545.455442</td>\n",
       "      <td>161471.811224</td>\n",
       "    </tr>\n",
       "    <tr>\n",
       "      <th>4283</th>\n",
       "      <td>United States</td>\n",
       "      <td>2020</td>\n",
       "      <td>Dec</td>\n",
       "      <td>211725.193548</td>\n",
       "      <td>33854.121304</td>\n",
       "      <td>31.0</td>\n",
       "      <td>199307.401601</td>\n",
       "      <td>224142.985496</td>\n",
       "    </tr>\n",
       "  </tbody>\n",
       "</table>\n",
       "</div>"
      ],
      "text/plain": [
       "            country  year month         dcases                      \\\n",
       "                                          mean           std  size   \n",
       "4272  United States  2020   Jan       0.800000      1.032796  10.0   \n",
       "4273  United States  2020   Feb       0.586207      1.592779  29.0   \n",
       "4274  United States  2020   Mar    6195.290323   8136.094990  31.0   \n",
       "4275  United States  2020   Apr   29444.100000   2951.205287  30.0   \n",
       "4276  United States  2020   May   22969.967742   3675.815070  31.0   \n",
       "4277  United States  2020   Jun   28578.800000   9530.864738  30.0   \n",
       "4278  United States  2020   Jul   61294.677419   7287.514718  31.0   \n",
       "4279  United States  2020   Aug   48365.354839   9820.975222  31.0   \n",
       "4280  United States  2020   Sep   39903.100000   6415.896956  30.0   \n",
       "4281  United States  2020   Oct   61870.935484  16595.228308  31.0   \n",
       "4282  United States  2020   Nov  149008.633333  33377.003387  30.0   \n",
       "4283  United States  2020   Dec  211725.193548  33854.121304  31.0   \n",
       "\n",
       "                                    \n",
       "          get_ci_lb      get_ci_ub  \n",
       "4272       0.061183       1.538817  \n",
       "4273      -0.019654       1.192068  \n",
       "4274    3210.946587    9179.634058  \n",
       "4275   28342.101835   30546.098165  \n",
       "4276   21621.667889   24318.267595  \n",
       "4277   25019.916618   32137.683382  \n",
       "4278   58621.595440   63967.759399  \n",
       "4279   44762.992044   51967.717633  \n",
       "4280   37507.364704   42298.835296  \n",
       "4281   55783.756596   67958.114371  \n",
       "4282  136545.455442  161471.811224  \n",
       "4283  199307.401601  224142.985496  "
      ]
     },
     "execution_count": 196,
     "metadata": {},
     "output_type": "execute_result"
    }
   ],
   "source": [
    "statsUS20"
   ]
  },
  {
   "cell_type": "code",
   "execution_count": 197,
   "id": "688ae5bd",
   "metadata": {},
   "outputs": [],
   "source": [
    "statsUS20.columns=['country','year','month','mean','std','size','lb','ub']"
   ]
  },
  {
   "cell_type": "code",
   "execution_count": 198,
   "id": "cd3286fa",
   "metadata": {},
   "outputs": [],
   "source": [
    "statsUS21.columns=['country','year','month','mean','std','size','lb','ub']"
   ]
  },
  {
   "cell_type": "code",
   "execution_count": 199,
   "id": "e357fdbb",
   "metadata": {},
   "outputs": [],
   "source": [
    "x=statsUS20['month']"
   ]
  },
  {
   "cell_type": "code",
   "execution_count": 200,
   "id": "aba921aa",
   "metadata": {},
   "outputs": [
    {
     "data": {
      "text/plain": [
       "4272    Jan\n",
       "4273    Feb\n",
       "4274    Mar\n",
       "4275    Apr\n",
       "4276    May\n",
       "4277    Jun\n",
       "4278    Jul\n",
       "4279    Aug\n",
       "4280    Sep\n",
       "4281    Oct\n",
       "4282    Nov\n",
       "4283    Dec\n",
       "Name: month, dtype: category\n",
       "Categories (12, object): ['Jan' < 'Feb' < 'Mar' < 'Apr' ... 'Sep' < 'Oct' < 'Nov' < 'Dec']"
      ]
     },
     "execution_count": 200,
     "metadata": {},
     "output_type": "execute_result"
    }
   ],
   "source": [
    "x"
   ]
  },
  {
   "cell_type": "code",
   "execution_count": 201,
   "id": "59454cd5",
   "metadata": {},
   "outputs": [],
   "source": [
    "y1=statsUS20['mean']"
   ]
  },
  {
   "cell_type": "code",
   "execution_count": 202,
   "id": "99b1e265",
   "metadata": {},
   "outputs": [
    {
     "data": {
      "text/plain": [
       "4272         0.800000\n",
       "4273         0.586207\n",
       "4274      6195.290323\n",
       "4275     29444.100000\n",
       "4276     22969.967742\n",
       "4277     28578.800000\n",
       "4278     61294.677419\n",
       "4279     48365.354839\n",
       "4280     39903.100000\n",
       "4281     61870.935484\n",
       "4282    149008.633333\n",
       "4283    211725.193548\n",
       "Name: mean, dtype: float64"
      ]
     },
     "execution_count": 202,
     "metadata": {},
     "output_type": "execute_result"
    }
   ],
   "source": [
    "y1"
   ]
  },
  {
   "cell_type": "code",
   "execution_count": 203,
   "id": "1583f8b3",
   "metadata": {},
   "outputs": [],
   "source": [
    "y2=statsUS21['mean']"
   ]
  },
  {
   "cell_type": "code",
   "execution_count": 204,
   "id": "45b99867",
   "metadata": {
    "scrolled": true
   },
   "outputs": [
    {
     "data": {
      "text/plain": [
       "4284    198456.967742\n",
       "4285     86034.071429\n",
       "4286     58528.870968\n",
       "4287     62969.866667\n",
       "4288     29748.451613\n",
       "4289     13276.666667\n",
       "4290     42530.096774\n",
       "4291    138009.096774\n",
       "4292    138317.533333\n",
       "4293     80985.838710\n",
       "4294     84910.333333\n",
       "4295    200893.903226\n",
       "Name: mean, dtype: float64"
      ]
     },
     "execution_count": 204,
     "metadata": {},
     "output_type": "execute_result"
    }
   ],
   "source": [
    "y2"
   ]
  },
  {
   "cell_type": "code",
   "execution_count": 205,
   "id": "ae770f83",
   "metadata": {},
   "outputs": [],
   "source": [
    "ci_lb_ub20=[statsUS20['lb'],statsUS20['ub']]"
   ]
  },
  {
   "cell_type": "code",
   "execution_count": 206,
   "id": "16e9f85e",
   "metadata": {},
   "outputs": [],
   "source": [
    "err20 = np.abs(ci_lb_ub20 - statsUS20['mean'].to_numpy())"
   ]
  },
  {
   "cell_type": "code",
   "execution_count": 207,
   "id": "f4afbaff",
   "metadata": {},
   "outputs": [],
   "source": [
    "ci_lb_ub21=[statsUS21['lb'],statsUS21['ub']]"
   ]
  },
  {
   "cell_type": "code",
   "execution_count": 208,
   "id": "136ea3b8",
   "metadata": {},
   "outputs": [],
   "source": [
    "err21 = np.abs(ci_lb_ub21 - statsUS21['mean'].to_numpy())"
   ]
  },
  {
   "cell_type": "code",
   "execution_count": 209,
   "id": "dac434db",
   "metadata": {},
   "outputs": [],
   "source": [
    "from matplotlib.transforms import Affine2D"
   ]
  },
  {
   "cell_type": "code",
   "execution_count": 210,
   "id": "211e48db",
   "metadata": {},
   "outputs": [
    {
     "data": {
      "image/png": "[encoded data removed]",
      "text/plain": [
       "<Figure size 432x288 with 1 Axes>"
      ]
     },
     "metadata": {
      "needs_background": "light"
     },
     "output_type": "display_data"
    }
   ],
   "source": [
    "fig, ax = plt.subplots()\n",
    "\n",
    "trans1 = Affine2D().translate(-0.1, 0.0) + ax.transData\n",
    "trans2 = Affine2D().translate(+0.1, 0.0) + ax.transData\n",
    "plt.errorbar('month', 'mean',  yerr=err20, data=statsUS20,marker='s', capsize=2,\n",
    "             color='blue', markersize=4, linewidth=1, linestyle='--',transform=trans1)\n",
    "plt.errorbar('month', 'mean',  yerr=err21, data=statsUS21,marker='s', capsize=2,\n",
    "             color='red', markersize=4, linewidth=1, linestyle='--',transform=trans2)\n",
    "plt.legend(['2020','2021'])\n",
    "plt.xlabel(\"Month\")\n",
    "plt.ylabel(\"Average Daily COVID CASES\")\n",
    "plt.title(\"United States\")\n",
    "plt.show()"
   ]
  },
  {
   "cell_type": "markdown",
   "id": "681f736b",
   "metadata": {},
   "source": [
    "This is a graph that compares the Average Daily COVID Cases of the United States during 2020 and 2021. As presented, in the year 2020, cases increased gradually throughout the year. However, in 2021, there were multiple fluctuations in the daily cases. It would increase and decrease on different intervals at multiple times."
   ]
  },
  {
   "cell_type": "markdown",
   "id": "09a31728",
   "metadata": {},
   "source": [
    "Now we will compare COVID cases with respect to income."
   ]
  },
  {
   "cell_type": "code",
   "execution_count": 242,
   "id": "3881b8c1",
   "metadata": {},
   "outputs": [],
   "source": [
    "from pandas.api.types import CategoricalDtype\n",
    "cats=cats=['Low income','Lower middle income', 'Upper middle income','High income']\n",
    "cat_type = CategoricalDtype(categories=cats, ordered=True)\n",
    "df['income'] = df['income'].astype(cat_type)"
   ]
  },
  {
   "cell_type": "code",
   "execution_count": 243,
   "id": "b75137e6",
   "metadata": {},
   "outputs": [],
   "source": [
    "import numpy as np"
   ]
  },
  {
   "cell_type": "code",
   "execution_count": 245,
   "id": "a11c22b0",
   "metadata": {},
   "outputs": [],
   "source": [
    "stats=df.groupby(\"income\").agg({\"dcases\": [np.mean, np.std, np.size]})"
   ]
  },
  {
   "cell_type": "code",
   "execution_count": 246,
   "id": "58b5c46d",
   "metadata": {},
   "outputs": [
    {
     "data": {
      "text/html": [
       "<div>\n",
       "<style scoped>\n",
       "    .dataframe tbody tr th:only-of-type {\n",
       "        vertical-align: middle;\n",
       "    }\n",
       "\n",
       "    .dataframe tbody tr th {\n",
       "        vertical-align: top;\n",
       "    }\n",
       "\n",
       "    .dataframe thead tr th {\n",
       "        text-align: left;\n",
       "    }\n",
       "\n",
       "    .dataframe thead tr:last-of-type th {\n",
       "        text-align: right;\n",
       "    }\n",
       "</style>\n",
       "<table border=\"1\" class=\"dataframe\">\n",
       "  <thead>\n",
       "    <tr>\n",
       "      <th></th>\n",
       "      <th colspan=\"3\" halign=\"left\">dcases</th>\n",
       "    </tr>\n",
       "    <tr>\n",
       "      <th></th>\n",
       "      <th>mean</th>\n",
       "      <th>std</th>\n",
       "      <th>size</th>\n",
       "    </tr>\n",
       "    <tr>\n",
       "      <th>income</th>\n",
       "      <th></th>\n",
       "      <th></th>\n",
       "      <th></th>\n",
       "    </tr>\n",
       "  </thead>\n",
       "  <tbody>\n",
       "    <tr>\n",
       "      <th>Low income</th>\n",
       "      <td>128.303866</td>\n",
       "      <td>528.052513</td>\n",
       "      <td>18936</td>\n",
       "    </tr>\n",
       "    <tr>\n",
       "      <th>Lower middle income</th>\n",
       "      <td>1967.968678</td>\n",
       "      <td>14104.539546</td>\n",
       "      <td>29532</td>\n",
       "    </tr>\n",
       "    <tr>\n",
       "      <th>Upper middle income</th>\n",
       "      <td>2599.124533</td>\n",
       "      <td>8484.977570</td>\n",
       "      <td>35573</td>\n",
       "    </tr>\n",
       "    <tr>\n",
       "      <th>High income</th>\n",
       "      <td>3508.379053</td>\n",
       "      <td>15941.148992</td>\n",
       "      <td>38802</td>\n",
       "    </tr>\n",
       "  </tbody>\n",
       "</table>\n",
       "</div>"
      ],
      "text/plain": [
       "                          dcases                     \n",
       "                            mean           std   size\n",
       "income                                               \n",
       "Low income            128.303866    528.052513  18936\n",
       "Lower middle income  1967.968678  14104.539546  29532\n",
       "Upper middle income  2599.124533   8484.977570  35573\n",
       "High income          3508.379053  15941.148992  38802"
      ]
     },
     "execution_count": 246,
     "metadata": {},
     "output_type": "execute_result"
    }
   ],
   "source": [
    "stats"
   ]
  },
  {
   "cell_type": "code",
   "execution_count": 247,
   "id": "1728ea54",
   "metadata": {},
   "outputs": [],
   "source": [
    "import scipy.stats "
   ]
  },
  {
   "cell_type": "code",
   "execution_count": 248,
   "id": "bec3099c",
   "metadata": {},
   "outputs": [],
   "source": [
    "ci95_hi = []\n",
    "ci95_lo = []"
   ]
  },
  {
   "cell_type": "code",
   "execution_count": 249,
   "id": "661b18ec",
   "metadata": {},
   "outputs": [],
   "source": [
    "for i in stats.index:\n",
    "    m, s, n = stats.loc[i]\n",
    "    x=scipy.stats.t.interval(.95, n-1, m,s/np.sqrt(n-1))\n",
    "    ci95_hi.append(x[1])\n",
    "    ci95_lo.append(x[0])"
   ]
  },
  {
   "cell_type": "code",
   "execution_count": 250,
   "id": "c6c6d900",
   "metadata": {},
   "outputs": [
    {
     "data": {
      "text/plain": [
       "[135.82564020188033, 2128.8426288376204, 2687.3023663783597, 3666.999730039011]"
      ]
     },
     "execution_count": 250,
     "metadata": {},
     "output_type": "execute_result"
    }
   ],
   "source": [
    "ci95_hi"
   ]
  },
  {
   "cell_type": "code",
   "execution_count": 251,
   "id": "2c20bf6f",
   "metadata": {},
   "outputs": [
    {
     "data": {
      "text/plain": [
       "[120.78209110356958,\n",
       " 1807.0947272506905,\n",
       " 2510.9466989239763,\n",
       " 3349.7583752132955]"
      ]
     },
     "execution_count": 251,
     "metadata": {},
     "output_type": "execute_result"
    }
   ],
   "source": [
    "ci95_lo"
   ]
  },
  {
   "cell_type": "code",
   "execution_count": 252,
   "id": "a7afa29d",
   "metadata": {},
   "outputs": [
    {
     "name": "stdout",
     "output_type": "stream",
     "text": [
      "                          dcases                           ci95_hi  \\\n",
      "                            mean           std   size                \n",
      "income                                                               \n",
      "Low income            128.303866    528.052513  18936   135.825640   \n",
      "Lower middle income  1967.968678  14104.539546  29532  2128.842629   \n",
      "Upper middle income  2599.124533   8484.977570  35573  2687.302366   \n",
      "High income          3508.379053  15941.148992  38802  3666.999730   \n",
      "\n",
      "                         ci95_lo  \n",
      "                                  \n",
      "income                            \n",
      "Low income            120.782091  \n",
      "Lower middle income  1807.094727  \n",
      "Upper middle income  2510.946699  \n",
      "High income          3349.758375  \n"
     ]
    }
   ],
   "source": [
    "stats['ci95_hi'] = ci95_hi\n",
    "stats['ci95_lo'] = ci95_lo\n",
    "print(stats)"
   ]
  },
  {
   "cell_type": "code",
   "execution_count": 253,
   "id": "50356725",
   "metadata": {},
   "outputs": [],
   "source": [
    "df_ci= pd.DataFrame(stats)"
   ]
  },
  {
   "cell_type": "code",
   "execution_count": 254,
   "id": "5ce5a70e",
   "metadata": {},
   "outputs": [
    {
     "data": {
      "text/html": [
       "<div>\n",
       "<style scoped>\n",
       "    .dataframe tbody tr th:only-of-type {\n",
       "        vertical-align: middle;\n",
       "    }\n",
       "\n",
       "    .dataframe tbody tr th {\n",
       "        vertical-align: top;\n",
       "    }\n",
       "\n",
       "    .dataframe thead tr th {\n",
       "        text-align: left;\n",
       "    }\n",
       "\n",
       "    .dataframe thead tr:last-of-type th {\n",
       "        text-align: right;\n",
       "    }\n",
       "</style>\n",
       "<table border=\"1\" class=\"dataframe\">\n",
       "  <thead>\n",
       "    <tr>\n",
       "      <th></th>\n",
       "      <th colspan=\"3\" halign=\"left\">dcases</th>\n",
       "      <th>ci95_hi</th>\n",
       "      <th>ci95_lo</th>\n",
       "    </tr>\n",
       "    <tr>\n",
       "      <th></th>\n",
       "      <th>mean</th>\n",
       "      <th>std</th>\n",
       "      <th>size</th>\n",
       "      <th></th>\n",
       "      <th></th>\n",
       "    </tr>\n",
       "    <tr>\n",
       "      <th>income</th>\n",
       "      <th></th>\n",
       "      <th></th>\n",
       "      <th></th>\n",
       "      <th></th>\n",
       "      <th></th>\n",
       "    </tr>\n",
       "  </thead>\n",
       "  <tbody>\n",
       "    <tr>\n",
       "      <th>Low income</th>\n",
       "      <td>128.303866</td>\n",
       "      <td>528.052513</td>\n",
       "      <td>18936</td>\n",
       "      <td>135.825640</td>\n",
       "      <td>120.782091</td>\n",
       "    </tr>\n",
       "    <tr>\n",
       "      <th>Lower middle income</th>\n",
       "      <td>1967.968678</td>\n",
       "      <td>14104.539546</td>\n",
       "      <td>29532</td>\n",
       "      <td>2128.842629</td>\n",
       "      <td>1807.094727</td>\n",
       "    </tr>\n",
       "    <tr>\n",
       "      <th>Upper middle income</th>\n",
       "      <td>2599.124533</td>\n",
       "      <td>8484.977570</td>\n",
       "      <td>35573</td>\n",
       "      <td>2687.302366</td>\n",
       "      <td>2510.946699</td>\n",
       "    </tr>\n",
       "    <tr>\n",
       "      <th>High income</th>\n",
       "      <td>3508.379053</td>\n",
       "      <td>15941.148992</td>\n",
       "      <td>38802</td>\n",
       "      <td>3666.999730</td>\n",
       "      <td>3349.758375</td>\n",
       "    </tr>\n",
       "  </tbody>\n",
       "</table>\n",
       "</div>"
      ],
      "text/plain": [
       "                          dcases                           ci95_hi  \\\n",
       "                            mean           std   size                \n",
       "income                                                               \n",
       "Low income            128.303866    528.052513  18936   135.825640   \n",
       "Lower middle income  1967.968678  14104.539546  29532  2128.842629   \n",
       "Upper middle income  2599.124533   8484.977570  35573  2687.302366   \n",
       "High income          3508.379053  15941.148992  38802  3666.999730   \n",
       "\n",
       "                         ci95_lo  \n",
       "                                  \n",
       "income                            \n",
       "Low income            120.782091  \n",
       "Lower middle income  1807.094727  \n",
       "Upper middle income  2510.946699  \n",
       "High income          3349.758375  "
      ]
     },
     "execution_count": 254,
     "metadata": {},
     "output_type": "execute_result"
    }
   ],
   "source": [
    "df_ci"
   ]
  },
  {
   "cell_type": "markdown",
   "id": "7aa45831",
   "metadata": {},
   "source": [
    "This is a data frame that compares the confidence interval of 95% with regards to income and daily COVID Cases"
   ]
  },
  {
   "cell_type": "code",
   "execution_count": 255,
   "id": "25177f68",
   "metadata": {},
   "outputs": [
    {
     "data": {
      "text/plain": [
       "CategoricalIndex(['Low income', 'Lower middle income', 'Upper middle income',\n",
       "                  'High income'],\n",
       "                 categories=['Low income', 'Lower middle income', 'Upper middle income', 'High income'], ordered=True, dtype='category', name='income')"
      ]
     },
     "execution_count": 255,
     "metadata": {},
     "output_type": "execute_result"
    }
   ],
   "source": [
    "df_ci.index"
   ]
  },
  {
   "cell_type": "code",
   "execution_count": 256,
   "id": "cb267677",
   "metadata": {},
   "outputs": [],
   "source": [
    "df_ci['region']=df_ci.index"
   ]
  },
  {
   "cell_type": "code",
   "execution_count": 257,
   "id": "b634ff62",
   "metadata": {},
   "outputs": [
    {
     "data": {
      "text/html": [
       "<div>\n",
       "<style scoped>\n",
       "    .dataframe tbody tr th:only-of-type {\n",
       "        vertical-align: middle;\n",
       "    }\n",
       "\n",
       "    .dataframe tbody tr th {\n",
       "        vertical-align: top;\n",
       "    }\n",
       "\n",
       "    .dataframe thead tr th {\n",
       "        text-align: left;\n",
       "    }\n",
       "\n",
       "    .dataframe thead tr:last-of-type th {\n",
       "        text-align: right;\n",
       "    }\n",
       "</style>\n",
       "<table border=\"1\" class=\"dataframe\">\n",
       "  <thead>\n",
       "    <tr>\n",
       "      <th></th>\n",
       "      <th colspan=\"3\" halign=\"left\">dcases</th>\n",
       "      <th>ci95_hi</th>\n",
       "      <th>ci95_lo</th>\n",
       "      <th>region</th>\n",
       "    </tr>\n",
       "    <tr>\n",
       "      <th></th>\n",
       "      <th>mean</th>\n",
       "      <th>std</th>\n",
       "      <th>size</th>\n",
       "      <th></th>\n",
       "      <th></th>\n",
       "      <th></th>\n",
       "    </tr>\n",
       "    <tr>\n",
       "      <th>income</th>\n",
       "      <th></th>\n",
       "      <th></th>\n",
       "      <th></th>\n",
       "      <th></th>\n",
       "      <th></th>\n",
       "      <th></th>\n",
       "    </tr>\n",
       "  </thead>\n",
       "  <tbody>\n",
       "    <tr>\n",
       "      <th>Low income</th>\n",
       "      <td>128.303866</td>\n",
       "      <td>528.052513</td>\n",
       "      <td>18936</td>\n",
       "      <td>135.825640</td>\n",
       "      <td>120.782091</td>\n",
       "      <td>Low income</td>\n",
       "    </tr>\n",
       "    <tr>\n",
       "      <th>Lower middle income</th>\n",
       "      <td>1967.968678</td>\n",
       "      <td>14104.539546</td>\n",
       "      <td>29532</td>\n",
       "      <td>2128.842629</td>\n",
       "      <td>1807.094727</td>\n",
       "      <td>Lower middle income</td>\n",
       "    </tr>\n",
       "    <tr>\n",
       "      <th>Upper middle income</th>\n",
       "      <td>2599.124533</td>\n",
       "      <td>8484.977570</td>\n",
       "      <td>35573</td>\n",
       "      <td>2687.302366</td>\n",
       "      <td>2510.946699</td>\n",
       "      <td>Upper middle income</td>\n",
       "    </tr>\n",
       "    <tr>\n",
       "      <th>High income</th>\n",
       "      <td>3508.379053</td>\n",
       "      <td>15941.148992</td>\n",
       "      <td>38802</td>\n",
       "      <td>3666.999730</td>\n",
       "      <td>3349.758375</td>\n",
       "      <td>High income</td>\n",
       "    </tr>\n",
       "  </tbody>\n",
       "</table>\n",
       "</div>"
      ],
      "text/plain": [
       "                          dcases                           ci95_hi  \\\n",
       "                            mean           std   size                \n",
       "income                                                               \n",
       "Low income            128.303866    528.052513  18936   135.825640   \n",
       "Lower middle income  1967.968678  14104.539546  29532  2128.842629   \n",
       "Upper middle income  2599.124533   8484.977570  35573  2687.302366   \n",
       "High income          3508.379053  15941.148992  38802  3666.999730   \n",
       "\n",
       "                         ci95_lo               region  \n",
       "                                                       \n",
       "income                                                 \n",
       "Low income            120.782091           Low income  \n",
       "Lower middle income  1807.094727  Lower middle income  \n",
       "Upper middle income  2510.946699  Upper middle income  \n",
       "High income          3349.758375          High income  "
      ]
     },
     "execution_count": 257,
     "metadata": {},
     "output_type": "execute_result"
    }
   ],
   "source": [
    "df_ci"
   ]
  },
  {
   "cell_type": "code",
   "execution_count": 258,
   "id": "d293b07d",
   "metadata": {},
   "outputs": [
    {
     "data": {
      "text/plain": [
       "MultiIndex([( 'dcases', 'mean'),\n",
       "            ( 'dcases',  'std'),\n",
       "            ( 'dcases', 'size'),\n",
       "            ('ci95_hi',     ''),\n",
       "            ('ci95_lo',     ''),\n",
       "            ( 'region',     '')],\n",
       "           )"
      ]
     },
     "execution_count": 258,
     "metadata": {},
     "output_type": "execute_result"
    }
   ],
   "source": [
    "df_ci.columns"
   ]
  },
  {
   "cell_type": "code",
   "execution_count": 259,
   "id": "5bc1bca9",
   "metadata": {},
   "outputs": [],
   "source": [
    "import matplotlib.pyplot as plt"
   ]
  },
  {
   "cell_type": "code",
   "execution_count": 260,
   "id": "ffbdc989",
   "metadata": {},
   "outputs": [
    {
     "data": {
      "text/plain": [
       "([<matplotlib.axis.YTick at 0x24479c2c880>,\n",
       "  <matplotlib.axis.YTick at 0x24479c2c100>,\n",
       "  <matplotlib.axis.YTick at 0x24479c29070>,\n",
       "  <matplotlib.axis.YTick at 0x24479c46d00>],\n",
       " [Text(0, 0, 'Low income'),\n",
       "  Text(0, 1, 'Lower middle income'),\n",
       "  Text(0, 2, 'Upper middle income'),\n",
       "  Text(0, 3, 'High income')])"
      ]
     },
     "execution_count": 260,
     "metadata": {},
     "output_type": "execute_result"
    },
    {
     "data": {
      "image/png": "[encoded data removed]",
      "text/plain": [
       "<Figure size 432x288 with 1 Axes>"
      ]
     },
     "metadata": {
      "needs_background": "light"
     },
     "output_type": "display_data"
    }
   ],
   "source": [
    "for lb,ub,y in zip(df_ci['ci95_lo'],df_ci['ci95_hi'],range(len(df_ci))):\n",
    "    plt.plot((lb,ub),(y,y),'ro-')\n",
    "plt.yticks(range(len(df_ci)),list(df_ci['region']))"
   ]
  },
  {
   "cell_type": "markdown",
   "id": "64fb8a33",
   "metadata": {},
   "source": [
    "This is a graph that displays the confidence intervals of the different levels of income. It is shown that the areas with a higher level of income contract more cases. This is not necessarily due to income alone, as the United States, a country with high income, has a high number of deaths. This could be due to population size and growth."
   ]
  },
  {
   "cell_type": "code",
   "execution_count": null,
   "id": "6163ffec",
   "metadata": {},
   "outputs": [],
   "source": []
  }
 ],
 "metadata": {
  "kernelspec": {
   "display_name": "Python 3 (ipykernel)",
   "language": "python",
   "name": "python3"
  },
  "language_info": {
   "codemirror_mode": {
    "name": "ipython",
    "version": 3
   },
   "file_extension": ".py",
   "mimetype": "text/x-python",
   "name": "python",
   "nbconvert_exporter": "python",
   "pygments_lexer": "ipython3",
   "version": "3.9.7"
  }
 },
 "nbformat": 4,
 "nbformat_minor": 5
}
